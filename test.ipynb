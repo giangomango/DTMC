{
 "cells": [
  {
   "cell_type": "code",
   "execution_count": 1,
   "id": "5a3ec4b9",
   "metadata": {},
   "outputs": [],
   "source": [
    "import numpy as np\n",
    "from meshplot import plot, subplot, interact\n",
    "import igl\n",
    "import scipy\n",
    "import os\n",
    "root_folder = os.getcwd()"
   ]
  },
  {
   "cell_type": "code",
   "execution_count": 22,
   "id": "ba36470d",
   "metadata": {},
   "outputs": [
    {
     "name": "stdout",
     "output_type": "stream",
     "text": [
      "1\n",
      "(-1.6500000000000001, 0.9526279441628825)\n",
      "1\n",
      "(-2.75, 0.9526279441628824)\n",
      "2\n",
      "(-2.2, 1.9052558883257649)\n",
      "1\n",
      "(-3.8500000000000005, 0.9526279441628825)\n",
      "2\n",
      "(-3.3000000000000003, 1.905255888325765)\n",
      "3\n",
      "(-2.75, 2.8578838324886475)\n",
      "1\n",
      "(-4.95, 0.9526279441628825)\n",
      "2\n",
      "(-4.4, 1.905255888325765)\n",
      "3\n",
      "(-3.8499999999999996, 2.857883832488648)\n",
      "4\n",
      "(-3.3, 3.81051177665153)\n",
      "1\n",
      "(-6.050000000000001, 0.9526279441628824)\n",
      "2\n",
      "(-5.5, 1.9052558883257649)\n",
      "3\n",
      "(-4.95, 2.8578838324886475)\n",
      "4\n",
      "(-4.4, 3.8105117766515297)\n",
      "5\n",
      "(-3.8500000000000005, 4.763139720814412)\n",
      "1\n",
      "(-7.150000000000001, 0.9526279441628824)\n",
      "2\n",
      "(-6.600000000000001, 1.9052558883257649)\n",
      "3\n",
      "(-6.050000000000001, 2.8578838324886475)\n",
      "4\n",
      "(-5.500000000000001, 3.8105117766515297)\n",
      "5\n",
      "(-4.950000000000001, 4.763139720814412)\n",
      "6\n",
      "(-4.4, 5.715767664977295)\n",
      "1\n",
      "(-8.25, 0.9526279441628825)\n",
      "2\n",
      "(-7.700000000000001, 1.905255888325765)\n",
      "3\n",
      "(-7.15, 2.8578838324886475)\n",
      "4\n",
      "(-6.6000000000000005, 3.81051177665153)\n",
      "5\n",
      "(-6.050000000000001, 4.763139720814412)\n",
      "6\n",
      "(-5.5, 5.715767664977295)\n",
      "7\n",
      "(-4.95, 6.668395609140178)\n",
      "1\n",
      "(-9.35, 0.9526279441628825)\n",
      "2\n",
      "(-8.8, 1.905255888325765)\n",
      "3\n",
      "(-8.25, 2.8578838324886475)\n",
      "4\n",
      "(-7.7, 3.81051177665153)\n",
      "5\n",
      "(-7.15, 4.763139720814412)\n",
      "6\n",
      "(-6.6, 5.715767664977295)\n",
      "7\n",
      "(-6.050000000000001, 6.668395609140178)\n",
      "8\n",
      "(-5.5, 7.62102355330306)\n",
      "1\n",
      "(-10.45, 0.9526279441628825)\n",
      "2\n",
      "(-9.9, 1.905255888325765)\n",
      "3\n",
      "(-9.35, 2.857883832488648)\n",
      "4\n",
      "(-8.8, 3.81051177665153)\n",
      "5\n",
      "(-8.25, 4.763139720814412)\n",
      "6\n",
      "(-7.699999999999999, 5.715767664977296)\n",
      "7\n",
      "(-7.1499999999999995, 6.668395609140178)\n",
      "8\n",
      "(-6.6, 7.62102355330306)\n",
      "9\n",
      "(-6.05, 8.573651497465942)\n"
     ]
    }
   ],
   "source": [
    "from src.generate_mesh import triangular_lattice\n",
    "from src.generate_mesh import create_mesh\n",
    "from src.generate_mesh import linked_list_cell\n",
    "from src.elastic_energy import Elastic_Local\n",
    "from src.MC_vertex_link import MCstep_vertexB\n",
    "from src.MC_vertex_link import MCstep_linkB\n",
    "\n",
    "triangular_lattice = np.array( triangular_lattice(1.1, expansion_level =10) ) # returns a list with points on the Euclidean plane (2d space)\n",
    "ver, TRI=create_mesh(triangular_lattice)\n",
    "header,linklis,L=linked_list_cell(ver)\n",
    "ev,et,te=igl.edge_topology(ver,TRI) #ev edges as pair of vertices, et triangle edge relation, te edge triangle relation, -1 for boundaries\n",
    "gen=igl.adjacency_matrix(TRI)\n",
    "neig=scipy.sparse.lil_matrix(gen) #lil more efficint sparse format\n",
    "\n",
    "normals_ver=igl.per_vertex_normals(ver, TRI, igl.PER_VERTEX_NORMALS_WEIGHTING_TYPE_AREA)\n",
    "z=np.array([1/3,1/3,1/3])\n",
    "z=z/np.linalg.norm(z)\n",
    "normals_face=igl.per_face_normals(ver,TRI,z) #z normal given to degenerate faces(??)\n",
    "area = igl.doublearea(ver, TRI) / 2.0\n",
    "neigh=igl.adjacency_list(TRI)\n",
    "ADJ,NI=igl.vertex_triangle_adjacency(TRI, len(ver))\n",
    "border=igl.is_border_vertex(ver,TRI)"
   ]
  },
  {
   "cell_type": "code",
   "execution_count": 23,
   "id": "6f6ff83e",
   "metadata": {},
   "outputs": [
    {
     "data": {
      "text/plain": [
       "331"
      ]
     },
     "execution_count": 23,
     "metadata": {},
     "output_type": "execute_result"
    }
   ],
   "source": [
    "len(ver)"
   ]
  },
  {
   "cell_type": "code",
   "execution_count": 24,
   "id": "bf0e4809",
   "metadata": {
    "scrolled": true
   },
   "outputs": [],
   "source": [
    "border=igl.is_border_vertex(ver,TRI)\n",
    "ver_bulk=[]\n",
    "for i in range(0,len(border)):\n",
    "    if border[i]==False:\n",
    "        ver_bulk.append(i)\n",
    "    else:\n",
    "        ver[i]=[ver[i][0],ver[i][1],0]\n",
    "#ver[1]=[ver[1][0],ver[1][1],-1]"
   ]
  },
  {
   "cell_type": "code",
   "execution_count": 28,
   "id": "0001d351",
   "metadata": {},
   "outputs": [
    {
     "data": {
      "application/vnd.jupyter.widget-view+json": {
       "model_id": "fe92ff0ee8a147bf9ba69e0b8b323879",
       "version_major": 2,
       "version_minor": 0
      },
      "text/plain": [
       "Renderer(camera=PerspectiveCamera(children=(DirectionalLight(color='white', intensity=0.6, position=(0.0, 0.0,…"
      ]
     },
     "metadata": {},
     "output_type": "display_data"
    },
    {
     "data": {
      "text/plain": [
       "<meshplot.Viewer.Viewer at 0x7f3f20bddc40>"
      ]
     },
     "execution_count": 28,
     "metadata": {},
     "output_type": "execute_result"
    }
   ],
   "source": [
    "plot(ver,TRI)"
   ]
  },
  {
   "cell_type": "code",
   "execution_count": 30,
   "id": "f15f0ae2",
   "metadata": {
    "scrolled": false
   },
   "outputs": [
    {
     "data": {
      "text/plain": [
       "552.5412628371301"
      ]
     },
     "execution_count": 30,
     "metadata": {},
     "output_type": "execute_result"
    }
   ],
   "source": [
    "k=0.0000001\n",
    "β=0.1\n",
    "r=1.0\n",
    "σ=0.1*r\n",
    "normals_ver=igl.per_vertex_normals(ver, TRI, igl.PER_VERTEX_NORMALS_WEIGHTING_TYPE_AREA)  \n",
    "#if want updated ELastic Local need to calculate again normals ver which are not updated by MC\n",
    "H,c1,c2,A_v,SHO=Elastic_Local(ver,TRI,k,normals_ver,normals_face,area,neigh,ADJ,NI,et,te,border)\n",
    "H/k"
   ]
  },
  {
   "cell_type": "code",
   "execution_count": 257,
   "id": "7d5c0ba1",
   "metadata": {},
   "outputs": [],
   "source": [
    "#to check it updates Shape operator correctly\n",
    "for i in range(0,len(ev)):\n",
    "    if abs(SHO[0,0,i]-SHO2[0,0,i])>10e-10:\n",
    "            print(SHO[0,0,i],SHO2[0,0,i],\" \",i)\n",
    "            print(SHO[:,:,i],\" \",SHO2[:,:,i])"
   ]
  },
  {
   "cell_type": "code",
   "execution_count": 27,
   "id": "e14ac28d",
   "metadata": {
    "scrolled": true
   },
   "outputs": [],
   "source": [
    "nlinks=0\n",
    "nvert=0\n",
    "for z in range(0,300): \n",
    "    H_new=MCstep_vertexB(ver,TRI,header,linklis,L,σ,r,k,β,H,c1,c2,A_v,normals_face,ADJ,NI,neigh,et,ev,SHO,ver_bulk,border,area)\n",
    "    H=H_new\n",
    "    H_new,ADJ_new,NI_new=MCstep_linkB(ver,TRI,H,neig,β,c1,c2,k,r,ev,et,te,area,normals_face,ADJ,NI,SHO,border,A_v)\n",
    "    H=H_new\n",
    "    ADJ,NI=ADJ_new,NI_new\n",
    "    neigh=igl.adjacency_list(TRI) #Can update locally in MCstep_link"
   ]
  },
  {
   "cell_type": "code",
   "execution_count": 29,
   "id": "6edd653f",
   "metadata": {},
   "outputs": [
    {
     "data": {
      "text/plain": [
       "552.5412628371337"
      ]
     },
     "execution_count": 29,
     "metadata": {},
     "output_type": "execute_result"
    }
   ],
   "source": [
    "H/k"
   ]
  },
  {
   "cell_type": "code",
   "execution_count": 241,
   "id": "18496488",
   "metadata": {},
   "outputs": [
    {
     "name": "stdout",
     "output_type": "stream",
     "text": [
      "3.13 s ± 299 ms per loop (mean ± std. dev. of 7 runs, 1 loop each)\n"
     ]
    }
   ],
   "source": [
    "%timeit MCstep_vertexB(ver,TRI,header,linklis,L,σ,r,k,β,H,c1,c2,A_v,normals_face,ADJ,NI,neigh,et,ev,SHO,ver_bulk,border)"
   ]
  },
  {
   "cell_type": "code",
   "execution_count": null,
   "id": "67755597",
   "metadata": {},
   "outputs": [],
   "source": [
    "N  T #MCstep_vertex time\n",
    "91  314 \n",
    "397 1.73\n",
    "721 3.13\n",
    "1387 6.15"
   ]
  },
  {
   "cell_type": "code",
   "execution_count": 31,
   "id": "ce64020b",
   "metadata": {
    "scrolled": true
   },
   "outputs": [
    {
     "data": {
      "text/plain": [
       "[<matplotlib.lines.Line2D at 0x7f3f1cdc3670>]"
      ]
     },
     "execution_count": 31,
     "metadata": {},
     "output_type": "execute_result"
    },
    {
     "data": {
      "image/png": "[encoded data removed]",
      "text/plain": [
       "<Figure size 432x288 with 1 Axes>"
      ]
     },
     "metadata": {
      "needs_background": "light"
     },
     "output_type": "display_data"
    }
   ],
   "source": [
    "from matplotlib import pyplot as plt\n",
    "plt.plot([91,397,721,1387],[314,1730,3130,6150])"
   ]
  },
  {
   "cell_type": "code",
   "execution_count": 133,
   "id": "30f9d61a",
   "metadata": {},
   "outputs": [
    {
     "name": "stdout",
     "output_type": "stream",
     "text": [
      "4.02 ms ± 252 µs per loop (mean ± std. dev. of 7 runs, 100 loops each)\n"
     ]
    }
   ],
   "source": [
    "%timeit update_energy_neig(ver,TRI,H,c1,c2,k,A_v,0,normals_face,neigh,ADJ,NI,area,SHO,et,border)"
   ]
  },
  {
   "cell_type": "code",
   "execution_count": 123,
   "id": "841bf877",
   "metadata": {
    "scrolled": true
   },
   "outputs": [
    {
     "name": "stdout",
     "output_type": "stream",
     "text": [
      "2.73 ms ± 216 µs per loop (mean ± std. dev. of 7 runs, 100 loops each)\n"
     ]
    }
   ],
   "source": [
    "%timeit update_energy_vertex(ver,TRI,H,c1,c2,k,A_v,1,normals_face,neigh,ADJ,NI,area,SHO,et)"
   ]
  },
  {
   "cell_type": "code",
   "execution_count": null,
   "id": "28e74148",
   "metadata": {},
   "outputs": [],
   "source": []
  },
  {
   "cell_type": "code",
   "execution_count": null,
   "id": "b0255d8a",
   "metadata": {},
   "outputs": [],
   "source": []
  },
  {
   "cell_type": "code",
   "execution_count": null,
   "id": "c935817b",
   "metadata": {},
   "outputs": [],
   "source": []
  }
 ],
 "metadata": {
  "kernelspec": {
   "display_name": "Python 3 (ipykernel)",
   "language": "python",
   "name": "python3"
  },
  "language_info": {
   "codemirror_mode": {
    "name": "ipython",
    "version": 3
   },
   "file_extension": ".py",
   "mimetype": "text/x-python",
   "name": "python",
   "nbconvert_exporter": "python",
   "pygments_lexer": "ipython3",
   "version": "3.9.5"
  }
 },
 "nbformat": 4,
 "nbformat_minor": 5
}
