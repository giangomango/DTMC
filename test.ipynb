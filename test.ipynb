{
 "cells": [
  {
   "cell_type": "code",
   "execution_count": 15,
   "id": "5a3ec4b9",
   "metadata": {},
   "outputs": [],
   "source": [
    "import numpy as np\n",
    "from meshplot import plot, subplot, interact"
   ]
  },
  {
   "cell_type": "code",
   "execution_count": 16,
   "id": "ba36470d",
   "metadata": {},
   "outputs": [],
   "source": [
    "from src.generate_mesh import triangular_lattice\n",
    "from src.generate_mesh import create_mesh\n",
    "from src.elastic_energy import elastic_energy\n",
    "from src.MC_vertex_link import MCstep_vertex\n",
    "from src.MC_vertex_link import MCstep_link"
   ]
  },
  {
   "cell_type": "code",
   "execution_count": 17,
   "id": "bf0e4809",
   "metadata": {},
   "outputs": [
    {
     "name": "stdout",
     "output_type": "stream",
     "text": [
      "1\n",
      "(-1.6500000000000001, 0.9526279441628825)\n"
     ]
    }
   ],
   "source": [
    "triangular_lattice = np.array( triangular_lattice(1.1, expansion_level = 2) ) # returns a list with points on the Euclidean plane (2d space)\n",
    "ver, TRI=create_mesh(triangular_lattice)"
   ]
  },
  {
   "cell_type": "code",
   "execution_count": 13,
   "id": "e14ac28d",
   "metadata": {},
   "outputs": [],
   "source": [
    "k=0.000002\n",
    "β=0.1\n",
    "r=1.0\n",
    "σ=0.1*r\n",
    "for z in range(0,1000): \n",
    "    MCstep_vertex(ver,TRI,σ,r,k,β)\n",
    "    MCstep_link(ver,TRI,β,k,r)"
   ]
  },
  {
   "cell_type": "code",
   "execution_count": 19,
   "id": "7e03d67f",
   "metadata": {},
   "outputs": [
    {
     "data": {
      "application/vnd.jupyter.widget-view+json": {
       "model_id": "679fdf2b49764c0183f0af7dfa6675e3",
       "version_major": 2,
       "version_minor": 0
      },
      "text/plain": [
       "Renderer(camera=PerspectiveCamera(children=(DirectionalLight(color='white', intensity=0.6, position=(0.0, 0.0,…"
      ]
     },
     "metadata": {},
     "output_type": "display_data"
    },
    {
     "data": {
      "text/plain": [
       "1"
      ]
     },
     "execution_count": 19,
     "metadata": {},
     "output_type": "execute_result"
    }
   ],
   "source": [
    "p=plot(ver,TRI)\n",
    "p.add_points(ver, shading={\"point_size\": 1.0})"
   ]
  },
  {
   "cell_type": "code",
   "execution_count": null,
   "id": "9f9ea4be",
   "metadata": {},
   "outputs": [],
   "source": []
  }
 ],
 "metadata": {
  "kernelspec": {
   "display_name": "Python 3 (ipykernel)",
   "language": "python",
   "name": "python3"
  },
  "language_info": {
   "codemirror_mode": {
    "name": "ipython",
    "version": 3
   },
   "file_extension": ".py",
   "mimetype": "text/x-python",
   "name": "python",
   "nbconvert_exporter": "python",
   "pygments_lexer": "ipython3",
   "version": "3.9.5"
  }
 },
 "nbformat": 4,
 "nbformat_minor": 5
}
