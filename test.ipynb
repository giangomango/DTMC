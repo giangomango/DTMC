{
 "cells": [
  {
   "cell_type": "code",
   "execution_count": 1,
   "id": "5a3ec4b9",
   "metadata": {},
   "outputs": [],
   "source": [
    "import numpy as np\n",
    "from meshplot import plot, subplot, interact\n",
    "import igl\n",
    "import scipy\n",
    "import os\n",
    "root_folder = os.getcwd()"
   ]
  },
  {
   "cell_type": "code",
   "execution_count": 2,
   "id": "ba36470d",
   "metadata": {},
   "outputs": [
    {
     "name": "stdout",
     "output_type": "stream",
     "text": [
      "1\n",
      "(-1.6500000000000001, 0.9526279441628825)\n",
      "1\n",
      "(-2.75, 0.9526279441628824)\n",
      "2\n",
      "(-2.2, 1.9052558883257649)\n",
      "1\n",
      "(-3.8500000000000005, 0.9526279441628825)\n",
      "2\n",
      "(-3.3000000000000003, 1.905255888325765)\n",
      "3\n",
      "(-2.75, 2.8578838324886475)\n",
      "1\n",
      "(-4.95, 0.9526279441628825)\n",
      "2\n",
      "(-4.4, 1.905255888325765)\n",
      "3\n",
      "(-3.8499999999999996, 2.857883832488648)\n",
      "4\n",
      "(-3.3, 3.81051177665153)\n",
      "1\n",
      "(-6.050000000000001, 0.9526279441628824)\n",
      "2\n",
      "(-5.5, 1.9052558883257649)\n",
      "3\n",
      "(-4.95, 2.8578838324886475)\n",
      "4\n",
      "(-4.4, 3.8105117766515297)\n",
      "5\n",
      "(-3.8500000000000005, 4.763139720814412)\n",
      "1\n",
      "(-7.150000000000001, 0.9526279441628824)\n",
      "2\n",
      "(-6.600000000000001, 1.9052558883257649)\n",
      "3\n",
      "(-6.050000000000001, 2.8578838324886475)\n",
      "4\n",
      "(-5.500000000000001, 3.8105117766515297)\n",
      "5\n",
      "(-4.950000000000001, 4.763139720814412)\n",
      "6\n",
      "(-4.4, 5.715767664977295)\n",
      "1\n",
      "(-8.25, 0.9526279441628825)\n",
      "2\n",
      "(-7.700000000000001, 1.905255888325765)\n",
      "3\n",
      "(-7.15, 2.8578838324886475)\n",
      "4\n",
      "(-6.6000000000000005, 3.81051177665153)\n",
      "5\n",
      "(-6.050000000000001, 4.763139720814412)\n",
      "6\n",
      "(-5.5, 5.715767664977295)\n",
      "7\n",
      "(-4.95, 6.668395609140178)\n",
      "1\n",
      "(-9.35, 0.9526279441628825)\n",
      "2\n",
      "(-8.8, 1.905255888325765)\n",
      "3\n",
      "(-8.25, 2.8578838324886475)\n",
      "4\n",
      "(-7.7, 3.81051177665153)\n",
      "5\n",
      "(-7.15, 4.763139720814412)\n",
      "6\n",
      "(-6.6, 5.715767664977295)\n",
      "7\n",
      "(-6.050000000000001, 6.668395609140178)\n",
      "8\n",
      "(-5.5, 7.62102355330306)\n",
      "1\n",
      "(-10.45, 0.9526279441628825)\n",
      "2\n",
      "(-9.9, 1.905255888325765)\n",
      "3\n",
      "(-9.35, 2.857883832488648)\n",
      "4\n",
      "(-8.8, 3.81051177665153)\n",
      "5\n",
      "(-8.25, 4.763139720814412)\n",
      "6\n",
      "(-7.699999999999999, 5.715767664977296)\n",
      "7\n",
      "(-7.1499999999999995, 6.668395609140178)\n",
      "8\n",
      "(-6.6, 7.62102355330306)\n",
      "9\n",
      "(-6.05, 8.573651497465942)\n",
      "1\n",
      "(-11.55, 0.9526279441628825)\n",
      "2\n",
      "(-11.000000000000002, 1.905255888325765)\n",
      "3\n",
      "(-10.450000000000001, 2.857883832488647)\n",
      "4\n",
      "(-9.900000000000002, 3.81051177665153)\n",
      "5\n",
      "(-9.350000000000001, 4.763139720814413)\n",
      "6\n",
      "(-8.8, 5.715767664977294)\n",
      "7\n",
      "(-8.25, 6.668395609140178)\n",
      "8\n",
      "(-7.700000000000001, 7.62102355330306)\n",
      "9\n",
      "(-7.15, 8.573651497465942)\n",
      "10\n",
      "(-6.6000000000000005, 9.526279441628827)\n",
      "1\n",
      "(-12.65, 0.9526279441628824)\n",
      "2\n",
      "(-12.100000000000001, 1.9052558883257649)\n",
      "3\n",
      "(-11.55, 2.8578838324886475)\n",
      "4\n",
      "(-11.0, 3.8105117766515297)\n",
      "5\n",
      "(-10.450000000000001, 4.763139720814412)\n",
      "6\n",
      "(-9.9, 5.715767664977295)\n",
      "7\n",
      "(-9.350000000000001, 6.668395609140177)\n",
      "8\n",
      "(-8.8, 7.6210235533030595)\n",
      "9\n",
      "(-8.25, 8.573651497465942)\n",
      "10\n",
      "(-7.700000000000001, 9.526279441628825)\n",
      "11\n",
      "(-7.150000000000001, 10.478907385791707)\n",
      "1\n",
      "(-13.75, 0.9526279441628825)\n",
      "2\n",
      "(-13.200000000000001, 1.905255888325765)\n",
      "3\n",
      "(-12.65, 2.8578838324886475)\n",
      "4\n",
      "(-12.100000000000001, 3.81051177665153)\n",
      "5\n",
      "(-11.55, 4.763139720814413)\n",
      "6\n",
      "(-11.0, 5.715767664977295)\n",
      "7\n",
      "(-10.45, 6.668395609140179)\n",
      "8\n",
      "(-9.9, 7.62102355330306)\n",
      "9\n",
      "(-9.350000000000001, 8.573651497465942)\n",
      "10\n",
      "(-8.8, 9.526279441628827)\n",
      "11\n",
      "(-8.25, 10.47890738579171)\n",
      "12\n",
      "(-7.7, 11.43153532995459)\n",
      "1\n",
      "(-14.850000000000001, 0.9526279441628824)\n",
      "2\n",
      "(-14.300000000000002, 1.9052558883257649)\n",
      "3\n",
      "(-13.750000000000002, 2.8578838324886475)\n",
      "4\n",
      "(-13.200000000000003, 3.8105117766515297)\n",
      "5\n",
      "(-12.650000000000002, 4.763139720814412)\n",
      "6\n",
      "(-12.100000000000001, 5.715767664977295)\n",
      "7\n",
      "(-11.55, 6.668395609140178)\n",
      "8\n",
      "(-11.000000000000002, 7.6210235533030595)\n",
      "9\n",
      "(-10.450000000000003, 8.573651497465942)\n",
      "10\n",
      "(-9.900000000000002, 9.526279441628825)\n",
      "11\n",
      "(-9.350000000000001, 10.478907385791707)\n",
      "12\n",
      "(-8.8, 11.43153532995459)\n",
      "13\n",
      "(-8.250000000000002, 12.384163274117471)\n",
      "1\n",
      "(-15.95, 0.9526279441628824)\n",
      "2\n",
      "(-15.4, 1.9052558883257649)\n",
      "3\n",
      "(-14.85, 2.8578838324886475)\n",
      "4\n",
      "(-14.3, 3.8105117766515297)\n",
      "5\n",
      "(-13.75, 4.7631397208144115)\n",
      "6\n",
      "(-13.2, 5.715767664977295)\n",
      "7\n",
      "(-12.65, 6.668395609140177)\n",
      "8\n",
      "(-12.1, 7.6210235533030595)\n",
      "9\n",
      "(-11.55, 8.573651497465942)\n",
      "10\n",
      "(-11.0, 9.526279441628823)\n",
      "11\n",
      "(-10.45, 10.478907385791706)\n",
      "12\n",
      "(-9.899999999999999, 11.43153532995459)\n",
      "13\n",
      "(-9.35, 12.384163274117473)\n",
      "14\n",
      "(-8.8, 13.336791218280354)\n"
     ]
    }
   ],
   "source": [
    "from src.generate_mesh import triangular_lattice\n",
    "from src.generate_mesh import create_mesh\n",
    "from src.generate_mesh import linked_list_cell\n",
    "from src.elastic_energy import Elastic_Local\n",
    "from src.MC_vertex_link import MCstep_vertexB\n",
    "from src.MC_vertex_link import MCstep_linkB\n",
    "from src.particles import particlesA\n",
    "\n",
    "triangular_lattice = np.array( triangular_lattice(1.1, expansion_level =15) ) # returns a list with points on the Euclidean plane (2d space)\n",
    "ver, TRI=create_mesh(triangular_lattice)\n",
    "header,linklis,L=linked_list_cell(ver)\n",
    "ev,et,te=igl.edge_topology(ver,TRI) #ev edges as pair of vertices, et triangle edge relation, te edge triangle relation, -1 for boundaries\n",
    "gen=igl.adjacency_matrix(TRI)\n",
    "neig=scipy.sparse.lil_matrix(gen) #lil more efficint sparse format\n",
    "border=igl.is_border_vertex(ver,TRI)\n",
    "\n",
    "border=igl.is_border_vertex(ver,TRI) #fix border edges before calculating face normals, if not create discrepancy\n",
    "ver_bulk=[]\n",
    "for i in range(0,len(border)):\n",
    "    if border[i]==False:\n",
    "        ver_bulk.append(i)\n",
    "    else:\n",
    "        ver[i]=[ver[i][0],ver[i][1],0]\n",
    "\n",
    "normals_ver=igl.per_vertex_normals(ver, TRI, igl.PER_VERTEX_NORMALS_WEIGHTING_TYPE_AREA)\n",
    "z=np.array([1/3,1/3,1/3])\n",
    "z=z/np.linalg.norm(z)\n",
    "normals_face=igl.per_face_normals(ver,TRI,z) #z normal given to degenerate faces(??)\n",
    "area = igl.doublearea(ver, TRI) / 2.0\n",
    "neigh=igl.adjacency_list(TRI)\n",
    "ADJ,NI=igl.vertex_triangle_adjacency(TRI, len(ver))"
   ]
  },
  {
   "cell_type": "code",
   "execution_count": 3,
   "id": "6f6ff83e",
   "metadata": {},
   "outputs": [
    {
     "data": {
      "text/plain": [
       "721"
      ]
     },
     "execution_count": 3,
     "metadata": {},
     "output_type": "execute_result"
    }
   ],
   "source": [
    "len(ver)"
   ]
  },
  {
   "cell_type": "code",
   "execution_count": 4,
   "id": "0001d351",
   "metadata": {
    "scrolled": false
   },
   "outputs": [
    {
     "name": "stderr",
     "output_type": "stream",
     "text": [
      "/home/riccardo/miniconda3/lib/python3.9/site-packages/jupyter_client/session.py:716: UserWarning: Message serialization failed with:\n",
      "Out of range float values are not JSON compliant\n",
      "Supporting this message is deprecated in jupyter-client 7, please make sure your message is JSON-compliant\n",
      "  content = self.pack(content)\n"
     ]
    },
    {
     "data": {
      "application/vnd.jupyter.widget-view+json": {
       "model_id": "28a76d90dd814bb782e34a9911a5d618",
       "version_major": 2,
       "version_minor": 0
      },
      "text/plain": [
       "Renderer(camera=PerspectiveCamera(children=(DirectionalLight(color='white', intensity=0.6, position=(0.0, 0.0,…"
      ]
     },
     "metadata": {},
     "output_type": "display_data"
    },
    {
     "data": {
      "text/plain": [
       "<meshplot.Viewer.Viewer at 0x7f00a7222340>"
      ]
     },
     "execution_count": 4,
     "metadata": {},
     "output_type": "execute_result"
    }
   ],
   "source": [
    "plot(ver,TRI)"
   ]
  },
  {
   "cell_type": "code",
   "execution_count": 14,
   "id": "f15f0ae2",
   "metadata": {
    "scrolled": false
   },
   "outputs": [
    {
     "data": {
      "text/plain": [
       "1705.8123679369614"
      ]
     },
     "execution_count": 14,
     "metadata": {},
     "output_type": "execute_result"
    }
   ],
   "source": [
    "k=0.0001\n",
    "β=0.1\n",
    "r=1.0\n",
    "σ=0.1*r\n",
    "normals_ver=igl.per_vertex_normals(ver, TRI, igl.PER_VERTEX_NORMALS_WEIGHTING_TYPE_AREA)  \n",
    "#if want updated ELastic Local need to calculate again normals ver which are not updated by MC\n",
    "\n",
    "\n",
    "\n",
    "k_I=10e-3\n",
    "k_D=100\n",
    "g=150\n",
    "\n",
    "μ=0.2\n",
    "#part=np.zeros(len(TRI))\n",
    "#part[0]=0\n",
    "\n",
    "\n",
    "H,M,A_v,SHO2,h2=Elastic_Local(ver,TRI,k,normals_ver,normals_face,area,neigh,ADJ,NI,et,te,border,μ,part)\n",
    "H/k"
   ]
  },
  {
   "cell_type": "code",
   "execution_count": 6,
   "id": "75ca600d",
   "metadata": {},
   "outputs": [
    {
     "data": {
      "text/plain": [
       "array([0., 0., 0., ..., 0., 0., 0.])"
      ]
     },
     "execution_count": 6,
     "metadata": {},
     "output_type": "execute_result"
    }
   ],
   "source": [
    "part"
   ]
  },
  {
   "cell_type": "code",
   "execution_count": 122,
   "id": "66c82674",
   "metadata": {},
   "outputs": [
    {
     "name": "stdout",
     "output_type": "stream",
     "text": [
      "851 ms ± 161 ms per loop (mean ± std. dev. of 7 runs, 10 loops each)\n"
     ]
    }
   ],
   "source": [
    "%timeit particlesA(ver,TRI,H,k,k_I,k_D,g,μ,SHO,h,M,A_v,normals_face,normals_ver,part,et,ev,te,border,neigh)"
   ]
  },
  {
   "cell_type": "markdown",
   "id": "db0b33f2",
   "metadata": {},
   "source": [
    "for i in range(0,len(ver)):\n",
    "    if abs(h[i]-h2[i])>10e-10:\n",
    "        print(h[i],h2[i],i)"
   ]
  },
  {
   "cell_type": "markdown",
   "id": "2943756e",
   "metadata": {},
   "source": [
    "#to check it updates Shape operator correctly\n",
    "for i in range(0,len(ev)):\n",
    "    if abs(SHO[0,0,i]-SHO2[0,0,i])>10e-10:\n",
    "            print(SHO[0,0,i],SHO2[0,0,i],\" \",i)\n",
    "            print(SHO[:,:,i],\" \",SHO2[:,:,i])"
   ]
  },
  {
   "cell_type": "code",
   "execution_count": 11,
   "id": "e14ac28d",
   "metadata": {
    "collapsed": true
   },
   "outputs": [
    {
     "name": "stdout",
     "output_type": "stream",
     "text": [
      "flip attempt\n",
      "flip attempt\n",
      "flip attempt\n",
      "flip attempt\n",
      "flip attempt\n",
      "flip attempt\n",
      "flip attempt\n",
      "flip attempt\n",
      "flip attempt\n",
      "flip attempt\n",
      "flip attempt\n",
      "flip attempt\n",
      "flip attempt\n",
      "flip attempt\n",
      "flip attempt\n",
      "flip attempt\n",
      "flip attempt\n",
      "flip attempt\n",
      "flip attempt\n",
      "flip attempt\n",
      "flip attempt\n",
      "flip attempt\n",
      "flip attempt\n",
      "flip attempt\n",
      "flip attempt\n",
      "flip attempt\n",
      "flip attempt\n",
      "flip attempt\n",
      "flip attempt\n",
      "flip attempt\n",
      "flip attempt\n",
      "flip attempt\n",
      "flip attempt\n",
      "flip attempt\n",
      "flip attempt\n",
      "flip attempt\n",
      "flip attempt\n",
      "flip attempt\n",
      "flip attempt\n",
      "flip attempt\n",
      "flip attempt\n",
      "flip attempt\n",
      "flip attempt\n",
      "flip attempt\n",
      "flip attempt\n",
      "flip attempt\n",
      "flip attempt\n",
      "flip attempt\n",
      "flip attempt\n",
      "flip attempt\n",
      "flip attempt\n",
      "flip attempt\n",
      "flip attempt\n",
      "flip attempt\n",
      "flip attempt\n",
      "flip attempt\n",
      "flip attempt\n",
      "flip attempt\n",
      "flip attempt\n",
      "flip attempt\n",
      "flip attempt\n",
      "flip attempt\n",
      "flip attempt\n",
      "flip attempt\n",
      "flip attempt\n",
      "flip attempt\n",
      "flip attempt\n",
      "flip attempt\n",
      "flip attempt\n",
      "flip attempt\n",
      "flip attempt\n",
      "flip attempt\n",
      "flip attempt\n",
      "flip attempt\n",
      "flip attempt\n",
      "flip attempt\n",
      "flip attempt\n",
      "flip attempt\n",
      "flip attempt\n",
      "flip attempt\n",
      "flip attempt\n",
      "flip attempt\n",
      "flip attempt\n",
      "flip attempt\n",
      "flip attempt\n",
      "flip attempt\n",
      "flip attempt\n",
      "flip attempt\n",
      "flip attempt\n",
      "flip attempt\n",
      "flip attempt\n",
      "flip attempt\n",
      "flip attempt\n",
      "flip attempt\n",
      "flip attempt\n",
      "flip attempt\n",
      "flip attempt\n",
      "flip attempt\n",
      "flip attempt\n",
      "flip attempt\n",
      "flip attempt\n",
      "flip attempt\n",
      "flip attempt\n",
      "flip attempt\n",
      "flip attempt\n",
      "flip attempt\n",
      "flip attempt\n",
      "flip attempt\n",
      "flip attempt\n",
      "flip attempt\n",
      "flip attempt\n",
      "flip attempt\n",
      "flip attempt\n",
      "flip attempt\n"
     ]
    }
   ],
   "source": [
    "nlinks=0\n",
    "nvert=0\n",
    "for z in range(0,100): \n",
    "    H_new=MCstep_vertexB(ver,TRI,header,linklis,L,σ,r,k,β,H,M,A_v,normals_face,ADJ,NI,neigh,et,ev,te,SHO,ver_bulk,border,area,h,part,μ)\n",
    "    H=H_new\n",
    "    H_new,ADJ_new,NI_new=MCstep_linkB(ver,TRI,H,neig,β,M,k,r,ev,et,te,area,normals_face,ADJ,NI,SHO,border,A_v,h,part,μ)\n",
    "    H=H_new\n",
    "    ADJ,NI=ADJ_new,NI_new\n",
    "    neigh=igl.adjacency_list(TRI) #Can update locally in MCstep_link\n",
    "    normals_ver=igl.per_vertex_normals(ver, TRI, igl.PER_VERTEX_NORMALS_WEIGHTING_TYPE_AREA)  \n",
    "    part,H=particlesA(ver,TRI,H,k,k_I,k_D,g,μ,SHO,h,M,A_v,normals_face,normals_ver,part,et,ev,te,border,neigh,ADJ,NI)"
   ]
  },
  {
   "cell_type": "code",
   "execution_count": 12,
   "id": "6edd653f",
   "metadata": {},
   "outputs": [
    {
     "data": {
      "text/plain": [
       "1705.812367936966"
      ]
     },
     "execution_count": 12,
     "metadata": {},
     "output_type": "execute_result"
    }
   ],
   "source": [
    "H/k"
   ]
  },
  {
   "cell_type": "code",
   "execution_count": 13,
   "id": "d124f754",
   "metadata": {},
   "outputs": [
    {
     "data": {
      "application/vnd.jupyter.widget-view+json": {
       "model_id": "3b8c4cb7517645cba311c0a0a252a239",
       "version_major": 2,
       "version_minor": 0
      },
      "text/plain": [
       "Renderer(camera=PerspectiveCamera(children=(DirectionalLight(color='white', intensity=0.6, position=(0.0, 0.0,…"
      ]
     },
     "metadata": {},
     "output_type": "display_data"
    },
    {
     "data": {
      "text/plain": [
       "<meshplot.Viewer.Viewer at 0x7f00a4894760>"
      ]
     },
     "execution_count": 13,
     "metadata": {},
     "output_type": "execute_result"
    }
   ],
   "source": [
    "plot(ver, TRI, c=part)"
   ]
  },
  {
   "cell_type": "code",
   "execution_count": 104,
   "id": "18496488",
   "metadata": {},
   "outputs": [
    {
     "name": "stdout",
     "output_type": "stream",
     "text": [
      "5.91 s ± 379 ms per loop (mean ± std. dev. of 7 runs, 1 loop each)\n"
     ]
    }
   ],
   "source": [
    "%timeit MCstep_vertexB(ver,TRI,header,linklis,L,σ,r,k,β,H,M,A_v,normals_face,ADJ,NI,neigh,et,ev,te,SHO,ver_bulk,border,area,h,part,μ)"
   ]
  },
  {
   "cell_type": "code",
   "execution_count": null,
   "id": "67755597",
   "metadata": {},
   "outputs": [],
   "source": [
    "N  T #MCstep_vertex time for a sweep in ms\n",
    "91  314ms\n",
    "397 1.73s\n",
    "721 3.13s\n",
    "1261 5.9s\n",
    "1387 6.15s"
   ]
  },
  {
   "cell_type": "code",
   "execution_count": null,
   "id": "d02e8406",
   "metadata": {},
   "outputs": [],
   "source": [
    "N T #particles time in ms(try to insert in all empty sites and try to diffuse all present particles)\n",
    "91  82ms\n",
    "331 354ms #time for first runs, for small system after first get faster because fill with particles\n",
    "721 851ms\n",
    "1261 1.39s"
   ]
  },
  {
   "cell_type": "code",
   "execution_count": 124,
   "id": "ce64020b",
   "metadata": {
    "scrolled": false
   },
   "outputs": [
    {
     "data": {
      "text/plain": [
       "Text(0, 0.5, 'time for a sweep in ms')"
      ]
     },
     "execution_count": 124,
     "metadata": {},
     "output_type": "execute_result"
    },
    {
     "data": {
      "image/png": "[encoded data removed]",
      "text/plain": [
       "<Figure size 432x288 with 1 Axes>"
      ]
     },
     "metadata": {
      "needs_background": "light"
     },
     "output_type": "display_data"
    }
   ],
   "source": [
    "from matplotlib import pyplot as plt\n",
    "plt.plot([91,397,721,1387],[314,1730,3130,6150])\n",
    "plt.title(\"MC_vertex scaling with number of vertices\")\n",
    "plt.xlabel(\"number of vertices\")\n",
    "plt.ylabel(\"time for a sweep in ms\")"
   ]
  },
  {
   "cell_type": "code",
   "execution_count": 125,
   "id": "fa2c4279",
   "metadata": {},
   "outputs": [
    {
     "data": {
      "text/plain": [
       "Text(0, 0.5, 'time for a sweep in ms')"
      ]
     },
     "execution_count": 125,
     "metadata": {},
     "output_type": "execute_result"
    },
    {
     "data": {
      "image/png": "[encoded data removed]",
      "text/plain": [
       "<Figure size 432x288 with 1 Axes>"
      ]
     },
     "metadata": {
      "needs_background": "light"
     },
     "output_type": "display_data"
    }
   ],
   "source": [
    "from matplotlib import pyplot as plt\n",
    "plt.plot([91,397,721,1261],[82,354,851,1390])\n",
    "plt.title(\"particles scaling with number of vertices\")\n",
    "plt.xlabel(\"number of vertices\")\n",
    "plt.ylabel(\"time for a sweep in ms\")"
   ]
  },
  {
   "cell_type": "code",
   "execution_count": 133,
   "id": "30f9d61a",
   "metadata": {},
   "outputs": [
    {
     "name": "stdout",
     "output_type": "stream",
     "text": [
      "4.02 ms ± 252 µs per loop (mean ± std. dev. of 7 runs, 100 loops each)\n"
     ]
    }
   ],
   "source": [
    "%timeit update_energy_neig(ver,TRI,H,c1,c2,k,A_v,0,normals_face,neigh,ADJ,NI,area,SHO,et,border)"
   ]
  },
  {
   "cell_type": "code",
   "execution_count": 123,
   "id": "841bf877",
   "metadata": {
    "scrolled": false
   },
   "outputs": [
    {
     "name": "stdout",
     "output_type": "stream",
     "text": [
      "2.73 ms ± 216 µs per loop (mean ± std. dev. of 7 runs, 100 loops each)\n"
     ]
    }
   ],
   "source": [
    "%timeit update_energy_vertex(ver,TRI,H,c1,c2,k,A_v,1,normals_face,neigh,ADJ,NI,area,SHO,et)"
   ]
  },
  {
   "cell_type": "code",
   "execution_count": null,
   "id": "ffa6fffd",
   "metadata": {},
   "outputs": [],
   "source": []
  },
  {
   "cell_type": "code",
   "execution_count": null,
   "id": "db8bb354",
   "metadata": {},
   "outputs": [],
   "source": []
  },
  {
   "cell_type": "code",
   "execution_count": null,
   "id": "a04526b1",
   "metadata": {},
   "outputs": [],
   "source": []
  }
 ],
 "metadata": {
  "kernelspec": {
   "display_name": "Python 3 (ipykernel)",
   "language": "python",
   "name": "python3"
  },
  "language_info": {
   "codemirror_mode": {
    "name": "ipython",
    "version": 3
   },
   "file_extension": ".py",
   "mimetype": "text/x-python",
   "name": "python",
   "nbconvert_exporter": "python",
   "pygments_lexer": "ipython3",
   "version": "3.9.5"
  }
 },
 "nbformat": 4,
 "nbformat_minor": 5
}
