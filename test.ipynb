{
 "cells": [
  {
   "cell_type": "code",
   "execution_count": 4,
   "id": "a2b6ac13",
   "metadata": {},
   "outputs": [],
   "source": [
    "import numpy as np"
   ]
  },
  {
   "cell_type": "code",
   "execution_count": 9,
   "id": "614e10b3",
   "metadata": {},
   "outputs": [],
   "source": [
    "from src.generate_mesh import triangular_lattice\n",
    "from src.generate_mesh import create_mesh\n",
    "from src.elastic_energy import elastic_energy\n",
    "from src.MC_vertex_link import MCstep_vertex\n",
    "from src.MC_vertex_link import MCstep_link"
   ]
  },
  {
   "cell_type": "code",
   "execution_count": 6,
   "id": "57aac050",
   "metadata": {},
   "outputs": [
    {
     "name": "stdout",
     "output_type": "stream",
     "text": [
      "1\n",
      "(-1.6500000000000001, 0.9526279441628825)\n",
      "1\n",
      "(-2.75, 0.9526279441628824)\n",
      "2\n",
      "(-2.2, 1.9052558883257649)\n",
      "1\n",
      "(-3.8500000000000005, 0.9526279441628825)\n",
      "2\n",
      "(-3.3000000000000003, 1.905255888325765)\n",
      "3\n",
      "(-2.75, 2.8578838324886475)\n",
      "1\n",
      "(-4.95, 0.9526279441628825)\n",
      "2\n",
      "(-4.4, 1.905255888325765)\n",
      "3\n",
      "(-3.8499999999999996, 2.857883832488648)\n",
      "4\n",
      "(-3.3, 3.81051177665153)\n"
     ]
    }
   ],
   "source": [
    "triangular_lattice = np.array( triangular_lattice(1.1, expansion_level = 5) ) # returns a list with points on the Euclidean plane (2d space)\n",
    "ver, TRI=create_mesh(triangular_lattice)"
   ]
  },
  {
   "cell_type": "code",
   "execution_count": 11,
   "id": "4eb577d3",
   "metadata": {},
   "outputs": [
    {
     "ename": "KeyboardInterrupt",
     "evalue": "",
     "output_type": "error",
     "traceback": [
      "\u001b[0;31m---------------------------------------------------------------------------\u001b[0m",
      "\u001b[0;31mKeyboardInterrupt\u001b[0m                         Traceback (most recent call last)",
      "\u001b[0;32m/tmp/ipykernel_5684/981856823.py\u001b[0m in \u001b[0;36m<module>\u001b[0;34m\u001b[0m\n\u001b[1;32m      5\u001b[0m \u001b[0;32mfor\u001b[0m \u001b[0mz\u001b[0m \u001b[0;32min\u001b[0m \u001b[0mrange\u001b[0m\u001b[0;34m(\u001b[0m\u001b[0;36m0\u001b[0m\u001b[0;34m,\u001b[0m\u001b[0;36m1000\u001b[0m\u001b[0;34m)\u001b[0m\u001b[0;34m:\u001b[0m \u001b[0;31m#Some thermalization\u001b[0m\u001b[0;34m\u001b[0m\u001b[0;34m\u001b[0m\u001b[0m\n\u001b[1;32m      6\u001b[0m \u001b[0;31m#     MCstep_vertex(ver,TRI,σ,r,k,β)\u001b[0m\u001b[0;34m\u001b[0m\u001b[0;34m\u001b[0m\u001b[0;34m\u001b[0m\u001b[0m\n\u001b[0;32m----> 7\u001b[0;31m     \u001b[0mMCstep_link\u001b[0m\u001b[0;34m(\u001b[0m\u001b[0mver\u001b[0m\u001b[0;34m,\u001b[0m\u001b[0mTRI\u001b[0m\u001b[0;34m,\u001b[0m\u001b[0mβ\u001b[0m\u001b[0;34m,\u001b[0m\u001b[0mk\u001b[0m\u001b[0;34m,\u001b[0m\u001b[0mr\u001b[0m\u001b[0;34m)\u001b[0m\u001b[0;34m\u001b[0m\u001b[0;34m\u001b[0m\u001b[0m\n\u001b[0m",
      "\u001b[0;32m~/Desktop/DTMC/DTMC/src/MC_vertex_link.py\u001b[0m in \u001b[0;36mMCstep_link\u001b[0;34m(ver, TRI, β, k, r)\u001b[0m\n\u001b[1;32m     81\u001b[0m     \u001b[0mindex\u001b[0m\u001b[0;34m=\u001b[0m\u001b[0mnp\u001b[0m\u001b[0;34m.\u001b[0m\u001b[0mrandom\u001b[0m\u001b[0;34m.\u001b[0m\u001b[0mpermutation\u001b[0m\u001b[0;34m(\u001b[0m\u001b[0mlen\u001b[0m\u001b[0;34m(\u001b[0m\u001b[0mev\u001b[0m\u001b[0;34m)\u001b[0m\u001b[0;34m)\u001b[0m\u001b[0;34m\u001b[0m\u001b[0;34m\u001b[0m\u001b[0m\n\u001b[1;32m     82\u001b[0m     \u001b[0;32mfor\u001b[0m \u001b[0mn\u001b[0m \u001b[0;32min\u001b[0m \u001b[0mindex\u001b[0m\u001b[0;34m[\u001b[0m\u001b[0;36m0\u001b[0m\u001b[0;34m:\u001b[0m\u001b[0mlen\u001b[0m\u001b[0;34m(\u001b[0m\u001b[0mver\u001b[0m\u001b[0;34m)\u001b[0m\u001b[0;34m]\u001b[0m\u001b[0;34m:\u001b[0m\u001b[0;34m\u001b[0m\u001b[0;34m\u001b[0m\u001b[0m\n\u001b[0;32m---> 83\u001b[0;31m         \u001b[0mev\u001b[0m\u001b[0;34m,\u001b[0m\u001b[0met\u001b[0m\u001b[0;34m,\u001b[0m\u001b[0mte\u001b[0m\u001b[0;34m=\u001b[0m\u001b[0migl\u001b[0m\u001b[0;34m.\u001b[0m\u001b[0medge_topology\u001b[0m\u001b[0;34m(\u001b[0m\u001b[0mver\u001b[0m\u001b[0;34m,\u001b[0m\u001b[0mTRI\u001b[0m\u001b[0;34m)\u001b[0m \u001b[0;31m#Calculate topology at each step, changes indicization, could try to flip same edge\u001b[0m\u001b[0;34m\u001b[0m\u001b[0;34m\u001b[0m\u001b[0m\n\u001b[0m\u001b[1;32m     84\u001b[0m         \u001b[0mneig\u001b[0m\u001b[0;34m=\u001b[0m\u001b[0migl\u001b[0m\u001b[0;34m.\u001b[0m\u001b[0madjacency_list\u001b[0m\u001b[0;34m(\u001b[0m\u001b[0mTRI\u001b[0m\u001b[0;34m)\u001b[0m\u001b[0;34m\u001b[0m\u001b[0;34m\u001b[0m\u001b[0m\n\u001b[1;32m     85\u001b[0m         \u001b[0ml\u001b[0m\u001b[0;34m,\u001b[0m\u001b[0mt\u001b[0m\u001b[0;34m=\u001b[0m\u001b[0mte\u001b[0m\u001b[0;34m[\u001b[0m\u001b[0mn\u001b[0m\u001b[0;34m]\u001b[0m\u001b[0;34m[\u001b[0m\u001b[0;36m0\u001b[0m\u001b[0;34m]\u001b[0m\u001b[0;34m,\u001b[0m\u001b[0mte\u001b[0m\u001b[0;34m[\u001b[0m\u001b[0mn\u001b[0m\u001b[0;34m]\u001b[0m\u001b[0;34m[\u001b[0m\u001b[0;36m1\u001b[0m\u001b[0;34m]\u001b[0m\u001b[0;34m\u001b[0m\u001b[0;34m\u001b[0m\u001b[0m\n",
      "\u001b[0;31mKeyboardInterrupt\u001b[0m: "
     ]
    }
   ],
   "source": [
    "k=0.000002\n",
    "β=0.1\n",
    "r=1.0\n",
    "σ=0.1*r\n",
    "for z in range(0,1000): #Some thermalization\n",
    "#     MCstep_vertex(ver,TRI,σ,r,k,β)\n",
    "    MCstep_link(ver,TRI,β,k,r)"
   ]
  },
  {
   "cell_type": "code",
   "execution_count": null,
   "id": "1f40e81c",
   "metadata": {},
   "outputs": [],
   "source": []
  }
 ],
 "metadata": {
  "kernelspec": {
   "display_name": "Python 3 (ipykernel)",
   "language": "python",
   "name": "python3"
  },
  "language_info": {
   "codemirror_mode": {
    "name": "ipython",
    "version": 3
   },
   "file_extension": ".py",
   "mimetype": "text/x-python",
   "name": "python",
   "nbconvert_exporter": "python",
   "pygments_lexer": "ipython3",
   "version": "3.9.5"
  }
 },
 "nbformat": 4,
 "nbformat_minor": 5
}
