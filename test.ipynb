{
 "cells": [
  {
   "cell_type": "code",
   "execution_count": 1,
   "id": "5a3ec4b9",
   "metadata": {},
   "outputs": [],
   "source": [
    "import numpy as np\n",
    "from meshplot import plot, subplot, interact\n",
    "import igl"
   ]
  },
  {
   "cell_type": "code",
   "execution_count": 2,
   "id": "ba36470d",
   "metadata": {},
   "outputs": [],
   "source": [
    "from src.generate_mesh import triangular_lattice\n",
    "from src.generate_mesh import create_mesh\n",
    "from src.generate_mesh import linked_list_cell\n",
    "from src.elastic_energy import elastic_energy\n",
    "from src.MC_vertex_link import MCstep_vertex\n",
    "from src.MC_vertex_link import MCstep_link"
   ]
  },
  {
   "cell_type": "code",
   "execution_count": 3,
   "id": "bf0e4809",
   "metadata": {},
   "outputs": [
    {
     "name": "stdout",
     "output_type": "stream",
     "text": [
      "1\n",
      "(-1.6500000000000001, 0.9526279441628825)\n"
     ]
    }
   ],
   "source": [
    "triangular_lattice = np.array( triangular_lattice(1.1, expansion_level = 2) ) # returns a list with points on the Euclidean plane (2d space)\n",
    "ver, TRI=create_mesh(triangular_lattice)\n",
    "header,linklis,L=linked_list_cell(ver)"
   ]
  },
  {
   "cell_type": "code",
   "execution_count": 11,
   "id": "e14ac28d",
   "metadata": {},
   "outputs": [],
   "source": [
    "k=0.000002\n",
    "β=0.5\n",
    "r=1.0\n",
    "σ=0.1*r\n",
    "for z in range(0,10000): \n",
    "    MCstep_vertex(ver,TRI,header,linklis,L,σ,r,k,β)\n",
    "    MCstep_link(ver,TRI,β,k,r)"
   ]
  },
  {
   "cell_type": "code",
   "execution_count": 5,
   "id": "622c96ff",
   "metadata": {},
   "outputs": [
    {
     "name": "stdout",
     "output_type": "stream",
     "text": [
      "7.26 ms ± 232 µs per loop (mean ± std. dev. of 7 runs, 100 loops each)\n"
     ]
    }
   ],
   "source": [
    "%timeit MCstep_link(ver,TRI,β,k,r)"
   ]
  },
  {
   "cell_type": "code",
   "execution_count": 7,
   "id": "1af7af7f",
   "metadata": {},
   "outputs": [
    {
     "name": "stdout",
     "output_type": "stream",
     "text": [
      "848 µs ± 41.8 µs per loop (mean ± std. dev. of 7 runs, 1000 loops each)\n"
     ]
    }
   ],
   "source": [
    "%timeit MCstep_vertex(ver,TRI,header,linklis,L,σ,r,k,β)"
   ]
  },
  {
   "cell_type": "code",
   "execution_count": 12,
   "id": "7e03d67f",
   "metadata": {},
   "outputs": [
    {
     "data": {
      "application/vnd.jupyter.widget-view+json": {
       "model_id": "1cb702e65f594014afa1733d4c9bca53",
       "version_major": 2,
       "version_minor": 0
      },
      "text/plain": [
       "Renderer(camera=PerspectiveCamera(children=(DirectionalLight(color='white', intensity=0.6, position=(0.4016938…"
      ]
     },
     "metadata": {},
     "output_type": "display_data"
    },
    {
     "data": {
      "text/plain": [
       "1"
      ]
     },
     "execution_count": 12,
     "metadata": {},
     "output_type": "execute_result"
    }
   ],
   "source": [
    "p=plot(ver,TRI)\n",
    "p.add_points(ver, shading={\"point_size\": 1.0})"
   ]
  },
  {
   "cell_type": "code",
   "execution_count": 10,
   "id": "8952b350",
   "metadata": {},
   "outputs": [],
   "source": [
    "TRE=np.copy(TRI)"
   ]
  },
  {
   "cell_type": "code",
   "execution_count": 16,
   "id": "d77aeead",
   "metadata": {},
   "outputs": [
    {
     "data": {
      "text/plain": [
       "array([[False, False, False],\n",
       "       [False,  True,  True],\n",
       "       [False, False, False],\n",
       "       [False, False, False],\n",
       "       [ True,  True,  True],\n",
       "       [False, False,  True],\n",
       "       [False, False, False],\n",
       "       [False, False, False],\n",
       "       [ True,  True,  True],\n",
       "       [False, False, False],\n",
       "       [False, False, False],\n",
       "       [ True,  True,  True],\n",
       "       [ True,  True,  True],\n",
       "       [False, False, False],\n",
       "       [False,  True,  True],\n",
       "       [False, False, False],\n",
       "       [False, False,  True],\n",
       "       [ True, False, False],\n",
       "       [ True, False, False],\n",
       "       [False, False, False],\n",
       "       [False, False, False],\n",
       "       [False, False, False],\n",
       "       [ True, False,  True],\n",
       "       [False, False, False]])"
      ]
     },
     "execution_count": 16,
     "metadata": {},
     "output_type": "execute_result"
    }
   ],
   "source": [
    "TRI==TRE"
   ]
  },
  {
   "cell_type": "code",
   "execution_count": null,
   "id": "6580efb4",
   "metadata": {},
   "outputs": [],
   "source": []
  }
 ],
 "metadata": {
  "kernelspec": {
   "display_name": "Python 3 (ipykernel)",
   "language": "python",
   "name": "python3"
  },
  "language_info": {
   "codemirror_mode": {
    "name": "ipython",
    "version": 3
   },
   "file_extension": ".py",
   "mimetype": "text/x-python",
   "name": "python",
   "nbconvert_exporter": "python",
   "pygments_lexer": "ipython3",
   "version": "3.9.5"
  }
 },
 "nbformat": 4,
 "nbformat_minor": 5
}
