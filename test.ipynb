{
 "cells": [
  {
   "cell_type": "code",
   "execution_count": 1,
   "id": "5a3ec4b9",
   "metadata": {},
   "outputs": [],
   "source": [
    "import numpy as np\n",
    "from meshplot import plot, subplot, interact\n",
    "import igl\n",
    "import scipy\n",
    "import os\n",
    "root_folder = os.getcwd()"
   ]
  },
  {
   "cell_type": "code",
   "execution_count": 2,
   "id": "ba36470d",
   "metadata": {},
   "outputs": [],
   "source": [
    "from src.generate_mesh import triangular_lattice\n",
    "from src.generate_mesh import create_mesh\n",
    "from src.generate_mesh import linked_list_cell\n",
    "from src.elastic_energy import elastic_energy\n",
    "from src.MC_vertex_link import MCstep_vertex\n",
    "from src.MC_vertex_link import MCstep_link\n",
    "\n",
    "triangular_lattice = np.array( triangular_lattice(1.1, expansion_level =1 ) ) # returns a list with points on the Euclidean plane (2d space)\n",
    "ver, TRI=create_mesh(triangular_lattice)\n",
    "header,linklis,L=linked_list_cell(ver)\n",
    "ev,et,te=igl.edge_topology(ver,TRI) #ev edges as pair of vertices, et triangle edge relation, te edge triangle relation, -1 for boundaries\n",
    "gen=igl.adjacency_matrix(TRI)\n",
    "neig=scipy.sparse.lil_matrix(gen) #lil more efficint sparse format"
   ]
  },
  {
   "cell_type": "code",
   "execution_count": 3,
   "id": "bf0e4809",
   "metadata": {
    "scrolled": true
   },
   "outputs": [],
   "source": [
    "border=igl.is_border_vertex(ver,TRI)\n",
    "ver_bulk=[]\n",
    "for i in range(0,len(border)):\n",
    "    if border[i]==False:\n",
    "        ver_bulk.append(i)\n",
    "        ver[i]=[ver[i][0],ver[i][1],0]\n",
    "    else:\n",
    "        ver[i]=[ver[i][0],ver[i][1],0]\n",
    "ver[1]=[ver[1][0],ver[1][1],1]"
   ]
  },
  {
   "cell_type": "code",
   "execution_count": 22,
   "id": "fd1971a0",
   "metadata": {
    "scrolled": false
   },
   "outputs": [
    {
     "data": {
      "application/vnd.jupyter.widget-view+json": {
       "model_id": "0880c40b059b47ffabb7cf841c6702b3",
       "version_major": 2,
       "version_minor": 0
      },
      "text/plain": [
       "Renderer(camera=PerspectiveCamera(children=(DirectionalLight(color='white', intensity=0.6, position=(0.0, 0.0,…"
      ]
     },
     "metadata": {},
     "output_type": "display_data"
    },
    {
     "data": {
      "text/plain": [
       "<meshplot.Viewer.Viewer at 0x7f02d10d14f0>"
      ]
     },
     "execution_count": 22,
     "metadata": {},
     "output_type": "execute_result"
    }
   ],
   "source": [
    "plot(ver,TRI)"
   ]
  },
  {
   "cell_type": "code",
   "execution_count": 16,
   "id": "f15f0ae2",
   "metadata": {
    "scrolled": false
   },
   "outputs": [
    {
     "name": "stdout",
     "output_type": "stream",
     "text": [
      "[-0.24970588  0.43250328 -0.4540107 ]\n",
      "-1.0763756475930335\n",
      "[0.49941177 0.         0.4540107 ]\n",
      "1.076375647593034\n",
      "[ 0.24970588 -0.43250328 -0.4540107 ]\n",
      "-1.0763756475930335\n",
      "[-0.49941177  0.          0.4540107 ]\n",
      "1.076375647593034\n",
      "[0.24970588 0.43250328 0.4540107 ]\n",
      "1.076375647593034\n",
      "[-0.24970588 -0.43250328  0.4540107 ]\n",
      "1.076375647593034\n"
     ]
    },
    {
     "data": {
      "text/plain": [
       "0.835075728106523"
      ]
     },
     "execution_count": 16,
     "metadata": {},
     "output_type": "execute_result"
    }
   ],
   "source": [
    "k=1000\n",
    "β=0.1\n",
    "r=1.0\n",
    "σ=0.1*r\n",
    "\n",
    "\n",
    "normals_ver=igl.per_vertex_normals(ver, TRI, igl.PER_VERTEX_NORMALS_WEIGHTING_TYPE_AREA)\n",
    "z=np.array([1/3,1/3,1/3])\n",
    "z=z/np.linalg.norm(z)\n",
    "normals_face=igl.per_face_normals(ver,TRI,z) #z normal given to degenerate faces(??)\n",
    "area = igl.doublearea(ver, TRI) / 2.0\n",
    "neigh=igl.adjacency_list(TRI)\n",
    "ADJ,NI=igl.vertex_triangle_adjacency(TRI, len(ver))\n",
    "    \n",
    "\n",
    "H,c1,c2,A_v,SHO=Elastic_Local(ver,TRI,k,normals_ver,normals_face,area,neigh,ADJ,NI,et,te,border)\n",
    "H/k"
   ]
  },
  {
   "cell_type": "code",
   "execution_count": 13,
   "id": "ab3fae63",
   "metadata": {},
   "outputs": [
    {
     "data": {
      "text/plain": [
       "9.149150404823713"
      ]
     },
     "execution_count": 13,
     "metadata": {},
     "output_type": "execute_result"
    }
   ],
   "source": [
    "pd1, pd2, f1, f2 = igl.principal_curvature(ver, TRI)\n",
    "elastic_energy(ver,TRI,k)/k"
   ]
  },
  {
   "cell_type": "code",
   "execution_count": 14,
   "id": "90b64c5f",
   "metadata": {
    "scrolled": true
   },
   "outputs": [
    {
     "data": {
      "text/plain": [
       "(1.5727391874180858, -0.524246395806028)"
      ]
     },
     "execution_count": 14,
     "metadata": {},
     "output_type": "execute_result"
    }
   ],
   "source": [
    "c1[1],c2[1]"
   ]
  },
  {
   "cell_type": "code",
   "execution_count": 15,
   "id": "8e1d533e",
   "metadata": {},
   "outputs": [
    {
     "data": {
      "text/plain": [
       "(1.65289256198347, 1.6528925619834702)"
      ]
     },
     "execution_count": 15,
     "metadata": {},
     "output_type": "execute_result"
    }
   ],
   "source": [
    "f1[1],f2[1]"
   ]
  },
  {
   "cell_type": "markdown",
   "id": "52a8f337",
   "metadata": {},
   "source": [
    "#to check it updates correctly\n",
    "for i in range(0,len(ev)):\n",
    "    for j in range(0,len(ver)):\n",
    "        if abs(SHO[0,0,i,j]-SHO2[0,0,i,j])>10e-10:\n",
    "            print(SHO[0,0,i,j],SHO2[0,0,i,j],\" \",i,\" \",j)\n",
    "            print(SHO[:,:,i,j],\" \",SHO2[:,:,i,j])"
   ]
  },
  {
   "cell_type": "code",
   "execution_count": 21,
   "id": "e14ac28d",
   "metadata": {},
   "outputs": [],
   "source": [
    "for z in range(0,10): \n",
    "    H_new=MCstep_vertexB(ver,TRI,header,linklis,L,σ,r,k,β,H,c1,c2,A_v,normals_face,ADJ,NI,neigh,et,ev,SHO,ver_bulk,border)\n",
    "    H=H_new\n",
    "    #MCstep_vertex(ver,TRI,header,linklis,L,σ,r,k,β)\n",
    "    #MCstep_link(ver,TRI,neig,β,k,r,ev,et,te)\n",
    "    #ADJ,NI=igl.vertex_triangle_adjacency(TRI, len(ver))"
   ]
  },
  {
   "cell_type": "code",
   "execution_count": 25,
   "id": "18496488",
   "metadata": {},
   "outputs": [
    {
     "name": "stdout",
     "output_type": "stream",
     "text": [
      "33.3 µs ± 4.36 µs per loop (mean ± std. dev. of 7 runs, 10000 loops each)\n"
     ]
    }
   ],
   "source": [
    "%timeit MCstep_vertexB(ver,TRI,header,linklis,L,σ,r,k,β,H,c1,c2,A_v,normals_face,ADJ,NI,neigh,et,ev,SHO,ver_bulk,border)"
   ]
  },
  {
   "cell_type": "code",
   "execution_count": 43,
   "id": "1cab56c0",
   "metadata": {},
   "outputs": [
    {
     "name": "stdout",
     "output_type": "stream",
     "text": [
      "58.3 µs ± 5.75 µs per loop (mean ± std. dev. of 7 runs, 10000 loops each)\n"
     ]
    }
   ],
   "source": [
    "%timeit ADJ,NI=igl.vertex_triangle_adjacency(TRI, len(ver))"
   ]
  },
  {
   "cell_type": "code",
   "execution_count": 36,
   "id": "2ae234d6",
   "metadata": {},
   "outputs": [
    {
     "name": "stdout",
     "output_type": "stream",
     "text": [
      "2.76 ms ± 156 µs per loop (mean ± std. dev. of 7 runs, 100 loops each)\n"
     ]
    }
   ],
   "source": [
    "%timeit update_energy(ver,TRI,H_old,c1,c2,k,A_v,0,normals_ver,normals_face,neigh,ADJ,NI)"
   ]
  },
  {
   "cell_type": "code",
   "execution_count": null,
   "id": "67755597",
   "metadata": {},
   "outputs": [],
   "source": [
    "N  T\n",
    "91 500\n",
    "169 1.12\n",
    "271 1.96\n",
    "397 2.31\n",
    "547 3.1\n",
    "721 3.79\n",
    "919 4.5\n",
    "1141 5.32\n",
    "1387 7.35"
   ]
  },
  {
   "cell_type": "code",
   "execution_count": 250,
   "id": "ce64020b",
   "metadata": {
    "scrolled": true
   },
   "outputs": [
    {
     "data": {
      "text/plain": [
       "[<matplotlib.lines.Line2D at 0x7fc26af5e880>]"
      ]
     },
     "execution_count": 250,
     "metadata": {},
     "output_type": "execute_result"
    },
    {
     "data": {
      "image/png": "[encoded data removed]",
      "text/plain": [
       "<Figure size 432x288 with 1 Axes>"
      ]
     },
     "metadata": {
      "needs_background": "light"
     },
     "output_type": "display_data"
    }
   ],
   "source": [
    "from matplotlib import pyplot as plt\n",
    "plt.plot([91,169,271,397,547,721,919,1141,1387],[500,1120,1960,2130,3100,3790,4500,5320,7350])"
   ]
  },
  {
   "cell_type": "code",
   "execution_count": 18,
   "id": "8807ff6a",
   "metadata": {},
   "outputs": [],
   "source": [
    "import igl\n",
    "import numpy as np\n",
    "from src.elastic_energy import elastic_energy\n",
    "import random\n",
    "\n",
    "def MCstep_vertexB(ver,TRI,header,linklis,L,σ,r,k,β,H,c1,c2,A_v,normals_face,ADJ,NI,neighbour,et,ev,SHO,ver_bulk,border): #tries to move N vertices\n",
    "    index=np.random.permutation(ver_bulk) #border vertices are fixed\n",
    "    #count=0\n",
    "    for i in index:\n",
    "        #count+=1\n",
    "        δ=np.array([random.uniform(-σ,σ),random.uniform(-σ,σ),random.uniform(-σ,σ)])\n",
    "        x0=ver[i]\n",
    "        cx,cy,cz= x0[0] // 1, x0[1] // 1, x0[2] // 1 #keep track of starting cell of x0\n",
    "        x0+=δ #shift vertex\n",
    "        boole=0\n",
    "        for j in neighbour[i]:#For the neighbours check also that thether distance don't exeed max of sqrt(2)\n",
    "            d=np.linalg.norm(x0-ver[j])\n",
    "            if d < r or d > np.sqrt(2):\n",
    "                x0-=δ #if neighbours too far put back vertex and break cycle\n",
    "                boole=1 \n",
    "                break\n",
    "        if boole==0:\n",
    "            cix,ciy,ciz= x0[0] // 1, x0[1] // 1, x0[2] // 1 #cell corresponding to new position\n",
    "            cell_neig=[]\n",
    "            for dx in range(-1,2): #also (0,0,0) so also checks that no overlap with particles contained in cell corresponding\n",
    "                for dy in range(-1,2): #to new position\n",
    "                    for dz in range(-1,2):\n",
    "                        nx,ny,nz=int(cix+dx),int(ciy+dy),int(ciz+dz)\n",
    "                        n=int(nx*L[1]*L[2]+ny*L[2]+nz)\n",
    "                        z=header[n]\n",
    "                        while(z!=-1):\n",
    "                            if z not in neighbour[i]:#already checked no overlap with mesh neig\n",
    "                                cell_neig.append(z)\n",
    "                            z=int(linklis[z])\n",
    "                            \n",
    "            for c in cell_neig: #Check no overlaps with particles contained in neig cells\n",
    "                d=np.linalg.norm(x0-ver[c])\n",
    "                if d < r and d!=0: \n",
    "                    x0-=δ    #two  vertices overlap. Put back the vertex in it's original position\n",
    "                    boole=1\n",
    "                    break\n",
    "            if boole==0:\n",
    "                H_new, Av_new, Nf_old, N_v,c1_new,c2_new,SH_old,ind=update_energy_vertex(ver,TRI,H,c1,c2,k,A_v,i,normals_face,neighbour,ADJ,NI,area,SHO,et)\n",
    "                H_new,Avj,SH_old_neig,ind_neig,c1_neig,c2_neig,ind_c=update_energy_neig(ver,TRI,H_new,c1,c2,k,A_v,i,normals_face,neighbour,ADJ,NI,area,SHO,et,border)\n",
    "                H_new=H_new.real\n",
    "                #print(H,\" \",H_new)\n",
    "                ΔH=H_new-H\n",
    "                P=min(1, np.exp(-β* ΔH))\n",
    "                if np.random.rand()>P: #with probability 1-P put vertex back\n",
    "                    x0-=δ\n",
    "                    for u in range(0,len(Nf_old)): #Put back also normals of faces and face areas\n",
    "                        area[Nf_old[u][2]]=Nf_old[u][1]\n",
    "                        normals_face[Nf_old[u][2]]=Nf_old[u][0]\n",
    "                    for v in range(0,len(ind)):   #Put back shape operators \n",
    "                        edge=ev[ind[v][0]]\n",
    "                        SHO[:,:,ind[v][0],ind[v][1]]=SH_old[:,:,v]\n",
    "                        for g in range(0,len(edge)): #update also shape shape operator centered in opposite vertex if not border\n",
    "                            if edge[g]!=ind[v][1]:\n",
    "                                if border[edge[g]]==False:\n",
    "                                    SHO[:,:,ind[v][0],edge[g]]=-SH_old[:,:,v]\n",
    "                    for w in range(0,len(ind_neig)): #already updates shape op centered in both vertices if not neig\n",
    "                        SHO[:,:,ind_neig[w][0],ind_neig[w][1]]=SH_old_neig[:,:,w]\n",
    "                    \n",
    "                else: #particle shifted, update cell list linked list\n",
    "                    c=int(cx*L[1]*L[2]+cy*L[2]+cz) #linear index that containined x0,that has now been shifted\n",
    "                    ci=int(cix*L[1]*L[2]+ciy*L[2]+ciz) #new linear index of cell containing x0\n",
    "                    if c!=ci: #shift particle only if it changes cell\n",
    "                        if header[c]==i: #if header of starting cell was x0\n",
    "                            header[c]=linklis[i]  #update header of cell where removing x0, new header particle to which x0\n",
    "                        else:                     #pointed (-1 if none)\n",
    "                            z=header[c]\n",
    "                            #print(i)\n",
    "                            while(z!=i): #find particle that pointed to i\n",
    "                                q=z\n",
    "                                z=int(linklis[z])\n",
    "                                #print(q,z)\n",
    "                            linklis[q]=linklis[i] #removing x0 particle that pointed to x0 points to particle that was pointed \n",
    "                                                  #by x0\n",
    "                        if header[ci]==-1: #updates for new cell containing x0, if empty x0 now points to empty and becomes new \n",
    "                                           #header\n",
    "                            linklis[i]=-1\n",
    "                            header[ci]=i\n",
    "                        else: #if particle already present, x0 points to previous header and becomes new header\n",
    "                            linklis[i]=header[ci]\n",
    "                            header[ci]=i\n",
    "                    #update also A_v, curvatures at vertex,energy\n",
    "                    A_v[i]=Av_new #new area at vertex \n",
    "                    for u in range(0,len(Avj)): #new neighbours area\n",
    "                        A_v[Avj[u][1]]=Avj[u][0]\n",
    "                        c1[ind_c[u]]=c1_neig[u] #new neig curvatures\n",
    "                        c2[ind_c[u]]=c2_neig[u]\n",
    "                    c1[i]=c1_new; c2[i]=c2_new\n",
    "                    H=H_new\n",
    "    return H    \n",
    "    "
   ]
  },
  {
   "cell_type": "code",
   "execution_count": 19,
   "id": "2638b5bd",
   "metadata": {},
   "outputs": [],
   "source": [
    "def update_energy_neig(ver,TRI,H_old,c1,c2,k,A_v,i,normals_face,neigh,ADJ,NI,area,SHO,et,border): #to be used after update energy vertex,uses already updated lists of face normals and areas\n",
    "    H_new=H_old\n",
    "    Avj=[]\n",
    "    SH_old_neig=np.zeros([3,3,2*len(neigh[i])])\n",
    "    c1_neig=[]; c2_neig=[]\n",
    "    ind_c=[]\n",
    "    ind_neig=[]\n",
    "    count=0\n",
    "    for j in neigh[i]: #Calculate new normals and vertex areas\n",
    "        if border[j]==False: #new curvature of j only if not border vertex \n",
    "            N_v=0; Av=0\n",
    "            SH_old=np.zeros([3,3,len(neigh[i])]) #Shape operators of old edges\n",
    "            ind=[] #corresponding indices\n",
    "            neig_faces_j=ADJ[NI[j]:NI[j+1]]\n",
    "            for m in neig_faces_j:\n",
    "                Nf=normals_face[m]\n",
    "                Af=area[m]\n",
    "                N_v+=Nf*Af\n",
    "                Av+=Af\n",
    "            N_v=N_v/np.linalg.norm(N_v)\n",
    "            Av=Av/3\n",
    "            Avj.append([Av,j])\n",
    "            S_v=np.zeros([3,3])\n",
    "            for z in neigh[j]: #Calculate new curvatures\n",
    "                neig_faces_z=ADJ[NI[z]:NI[z+1]]\n",
    "                faces=[]\n",
    "                for q in neig_faces_z:\n",
    "                    if q in neig_faces_j:\n",
    "                        faces.append(q)\n",
    "                Nf_1=normals_face[faces[0]]\n",
    "                Nf_2=normals_face[faces[1]]\n",
    "                et1=et[faces[0]]; et2=et[faces[1]] #list of edges used by faces considered\n",
    "                e=0\n",
    "                for l in et1:\n",
    "                    if l in et2:\n",
    "                        e=l #index of edge on which calculating curvature\n",
    "\n",
    "                N_e=(Nf_1+Nf_2) #new edge normal\n",
    "                N_e=N_e/np.linalg.norm(N_e)\n",
    "                #print(S_e,e,j)\n",
    "                P_v=np.identity(3)-np.tensordot(N_v,N_v,axes=0)\n",
    "                W_e=np.dot(N_v,N_e)\n",
    "                if z in neigh[i]: #calculate new shape operator for edges neigh triangles that changed face normal\n",
    "                    SH_old_neig[:,:,count]=np.copy(SHO[:,:,e,j]) #store old shape op\n",
    "                    ind_neig.append([e,j]) #edge e centered in vertex i\n",
    "                    count+=1\n",
    "                    r_e=ver[z]- ver[j]\n",
    "                    ϕ=np.sign(np.dot(np.cross(Nf_1,Nf_2),r_e))*np.arccos(np.dot(Nf_1,Nf_2))+np.pi\n",
    "                    #now can find edge curvature\n",
    "                    h=2*np.linalg.norm(r_e)*np.cos(0.5*ϕ)\n",
    "                    R_e=r_e/np.linalg.norm(r_e)\n",
    "                    b=np.cross(R_e,N_e)\n",
    "                    S_e=h*np.tensordot(b,b,axes=0) #Shape operatordot() \n",
    "                    SHO[:,:,e,j]=S_e #update shape operator related to edge e centered in i\n",
    "                    #SHO[:,:,e,z]=-S_e #update shape operator related to edge e centered in i\n",
    "\n",
    "                else:\n",
    "                    S_e=SHO[:,:,e,j] #extract shape operator corresponding to edge considered (edges neigh shifted vertex already updated in vertex)\n",
    "                S_v+=W_e*np.dot((np.conjugate(P_v.transpose())),np.dot(S_e,P_v))\n",
    "\n",
    "            S_v=S_v/Av #vertex shape operator has one zero eigenvalue and the other two are the curvatures\n",
    "            #print(np.dot(S_v,N_v))\n",
    "\n",
    "            #Householder transformation\n",
    "\n",
    "            x=[0,0,1] #start from canonical reference frame\n",
    "            pvec=x+N_v\n",
    "            mvec=x-N_v\n",
    "            if np.linalg.norm(pvec)>np.linalg.norm(mvec):\n",
    "                pvec=pvec/np.linalg.norm(pvec)\n",
    "                T_H=(np.identity(3)-2*np.tensordot(pvec,pvec,axes=0))\n",
    "            else:\n",
    "                mvec=mvec/np.linalg.norm(mvec)\n",
    "                T_H=(np.identity(3)-2*np.tensordot(mvec,mvec,axes=0))\n",
    "\n",
    "            C_v=np.dot((np.conjugate(T_H.transpose())),np.dot(S_v,T_H)) #now C 2x2 minor with nonzero elements\n",
    "            p=C_v[0,0]; q=C_v[0,1]\n",
    "            r=C_v[1,0]; s=C_v[1,1]\n",
    "            if q!=0 and r!=0:\n",
    "                insq=(p+s)**2-4*(p*s-q*r) #value of which will take squared root\n",
    "\n",
    "                if insq>0: #avoid complex eigenvalues\n",
    "                    c1_new=((p+s)+np.sqrt(insq))*0.5  #largest eigenvalue                            \n",
    "                    c2_new=((p+s)-np.sqrt(insq))*0.5  #smallest\n",
    "                else: #degenerate eigenvalues\n",
    "                    c1_new=(p+s)*0.5                               \n",
    "                    c2_new=e1\n",
    "            else:\n",
    "                if p>s:\n",
    "                    c1_new=p\n",
    "                    c2_new=s\n",
    "                else:\n",
    "                    c1_new=s\n",
    "                    c2_new=p\n",
    "\n",
    "\n",
    "\n",
    "\n",
    "            if abs(c1_new)<=10e-10:\n",
    "                c1_new=0\n",
    "            if abs(c2_new)<=10e-10:\n",
    "                c2_new=0\n",
    "            c1_neig.append(c1_new)\n",
    "            c2_neig.append(c2_new)\n",
    "            ind_c.append(j)\n",
    "            H_new=H_new+(((c1_new+c2_new)**2)*Av*0.5*k)-(((c1[j]+c2[j])**2)*A_v[j]*0.5*k)\n",
    "        #print(H_new)\n",
    "    return H_new,Avj,SH_old_neig,ind_neig,c1_neig,c2_neig,ind_c\n",
    "\n",
    "        \n",
    "            \n",
    "        "
   ]
  },
  {
   "cell_type": "code",
   "execution_count": 185,
   "id": "9d958a4c",
   "metadata": {},
   "outputs": [
    {
     "name": "stdout",
     "output_type": "stream",
     "text": [
      "6.37 ms ± 374 µs per loop (mean ± std. dev. of 7 runs, 100 loops each)\n"
     ]
    }
   ],
   "source": [
    "%timeit update_energy_neig(ver,TRI,H_elast,c1,c2,k,A_v,0,normals_face,neigh,ADJ,NI,area,SHO,et)"
   ]
  },
  {
   "cell_type": "code",
   "execution_count": 20,
   "id": "dc5479eb",
   "metadata": {},
   "outputs": [],
   "source": [
    "def update_energy_vertex(ver,TRI,H_old,c1,c2,k,A_v,i,normals_face,neigh,ADJ,NI,area,SHO,et):\n",
    "    #aus=H_old-(((c1[i]+c2[i])**2)*A_v[i]*0.5*k)\n",
    "    N_v=np.zeros(3)\n",
    "    Nf_old=[] #list with old face normals, areas and associated indices\n",
    "    Av_new=0\n",
    "    neig_faces_i=ADJ[NI[i]:NI[i+1]]\n",
    "    SH_old=np.zeros([3,3,len(neigh[i])]) #Shape operators of old edges\n",
    "    ind=[] #corresponding indices\n",
    "    for m in neig_faces_i: #calculate new vertex area, new face normals, new vertex normal\n",
    "        x,y,z=ver[TRI[m][0]],ver[TRI[m][1]],ver[TRI[m][2]]\n",
    "        α=x-y; β=x-z\n",
    "        A_face=0.5*np.linalg.norm(np.cross(α,β)) #area of j-th neig face\n",
    "        Nf=np.cross(α,β)/np.linalg.norm(np.cross(α,β)) #new normal of j-th neig face\n",
    "        Nf_old.append([np.copy(normals_face[m]),area[m],m])\n",
    "        N_v+=Nf*A_face\n",
    "        Av_new+=A_face\n",
    "        area[m]=A_face #update lists, then in MCvertex will put back old ones if vertex was put back\n",
    "        normals_face[m]=Nf\n",
    "        \n",
    "    N_v=N_v/np.linalg.norm(N_v)\n",
    "    Av_new=Av_new/3\n",
    "    count=0\n",
    "    S_v=np.zeros([3,3])\n",
    "    for j in neigh[i]: #calculate new energy contribution of shifted vertex\n",
    "        r_e=ver[j]- ver[i] #vector connecting central vertex to adjacent ones\n",
    "        #to find faces that share edge connecting i,j without searching ev\n",
    "        neig_faces_j=ADJ[NI[j]:NI[j+1]]\n",
    "        faces=[]\n",
    "        for q in neig_faces_i:\n",
    "            if q in neig_faces_j:\n",
    "                faces.append(q)\n",
    "        Nf_1=normals_face[faces[0]]\n",
    "        Nf_2=normals_face[faces[1]]\n",
    "        et1=et[faces[0]]; et2=et[faces[1]] #list of edges used by faces considered\n",
    "        e=0\n",
    "        for z in et1:\n",
    "            if z in et2:\n",
    "                e=z #index of edge on which calculating curvature\n",
    "        SH_old[:,:,count]=np.copy(SHO[:,:,e,i]) #store old shape op\n",
    "        ind.append([e,i]) #edge e centered in vertex i\n",
    "        count+=1\n",
    "                \n",
    "        ϕ=np.sign(np.dot(np.cross(Nf_1,Nf_2),r_e))*np.arccos(np.dot(Nf_1,Nf_2))+np.pi\n",
    "        #now can find edge curvature\n",
    "        h=2*np.linalg.norm(r_e)*np.cos(0.5*ϕ)\n",
    "        #To calculate shape operator calculate first edge normal using face normals\n",
    "        N_e=(Nf_1+Nf_2)\n",
    "        N_e=N_e/np.linalg.norm(N_e)\n",
    "        #Shape operator on edge e\n",
    "        R_e=r_e/np.linalg.norm(r_e)\n",
    "        b=np.cross(R_e,N_e)\n",
    "        S_e=h*np.tensordot(b,b,axes=0) #Shape operatordot()\n",
    "        SHO[:,:,e,i]=S_e #update shape operator related to edge e centered in i\n",
    "        if border[j]==False:\n",
    "            SHO[:,:,e,j]=-S_e #update also the shape operator related to same edge an centered in opposite vertex\n",
    "        P_v=np.identity(3)-np.tensordot(N_v,N_v,axes=0) #Projection operator\n",
    "        #Project shape operator on edge and obtain shape operator at vertex\n",
    "        #print(N_v,\" \",N_e)\n",
    "        #print(np.dot(N_e,N_v))\n",
    "        W_e=np.dot(N_v,N_e)\n",
    "        S_v+=W_e*np.dot((np.conjugate(P_v.transpose())),np.dot(S_e,P_v))\n",
    "\n",
    "        \n",
    "    S_v=S_v/Av_new #vertex shape operator has one zero eigenvalue and the other two are the curvatures\n",
    "    \n",
    "    \n",
    "    #Householder transformation\n",
    "    x=[0,0,1] #start from canonical reference frame\n",
    "    pvec=x+N_v\n",
    "    mvec=x-N_v\n",
    "    if np.linalg.norm(pvec)>np.linalg.norm(mvec):\n",
    "        pvec=pvec/np.linalg.norm(pvec)\n",
    "        T_H=(np.identity(3)-2*np.tensordot(pvec,pvec,axes=0))\n",
    "    else:\n",
    "        mvec=mvec/np.linalg.norm(mvec)\n",
    "        T_H=(np.identity(3)-2*np.tensordot(mvec,mvec,axes=0))\n",
    "\n",
    "    C_v=np.dot((np.conjugate(T_H.transpose())),np.dot(S_v,T_H)) #now C 2x2 minor with nonzero elements\n",
    "    p=C_v[0,0]; q=C_v[0,1]\n",
    "    r=C_v[1,0]; s=C_v[1,1]\n",
    "    if q!=0 and r!=0:\n",
    "        insq=(p+s)**2-4*(p*s-q*r) #value of which will take squared root\n",
    "\n",
    "        if insq>0: #avoid complex eigenvalues\n",
    "            c1_new=((p+s)+np.sqrt(insq))*0.5  #largest eigenvalue                            \n",
    "            c2_new=((p+s)-np.sqrt(insq))*0.5  #smallest\n",
    "        else: #degenerate eigenvalues\n",
    "            c1_new=(p+s)*0.5                               \n",
    "            c2_new=e1\n",
    "    else:\n",
    "        if p>s:\n",
    "            c1_new=p\n",
    "            c2_new=s\n",
    "        else:\n",
    "            c1_new=s\n",
    "            c2_new=p\n",
    "\n",
    "    if abs(c1_new)<=10e-10:\n",
    "        c1_new=0\n",
    "    if abs(c2_new)<=10e-10:\n",
    "        c2_new=0\n",
    "\n",
    "    H_new=H_old+(((c1_new+c2_new)**2)*Av_new*0.5*k)-(((c1[i]+c2[i])**2)*A_v[i]*0.5*k)\n",
    "\n",
    "    return H_new, Av_new, Nf_old, N_v,c1_new,c2_new,SH_old,ind\n",
    "\n",
    "    \n",
    "    \n",
    "    \n",
    "        \n",
    "        \n",
    "    \n",
    "    "
   ]
  },
  {
   "cell_type": "code",
   "execution_count": 509,
   "id": "841bf877",
   "metadata": {
    "scrolled": true
   },
   "outputs": [
    {
     "name": "stdout",
     "output_type": "stream",
     "text": [
      "3.85 ms ± 183 µs per loop (mean ± std. dev. of 7 runs, 100 loops each)\n"
     ]
    }
   ],
   "source": [
    "%timeit update_energy_vertex(ver,TRI,H_elast,c1,c2,k,A_v,0,normals_face,neigh,ADJ,NI,area,SHO,et)"
   ]
  },
  {
   "cell_type": "code",
   "execution_count": 699,
   "id": "76016342",
   "metadata": {},
   "outputs": [],
   "source": [
    "i=0\n",
    "k=1\n",
    "normals_ver=igl.per_vertex_normals(ver, TRI, igl.PER_VERTEX_NORMALS_WEIGHTING_TYPE_AREA)\n",
    "z=np.array([1/3,1/3,1/3])\n",
    "z=z/np.linalg.norm(z)\n",
    "normals_face=igl.per_face_normals(ver,TRI,z) #z normal given to degenerate faces(??)\n",
    "area = igl.doublearea(ver, TRI) / 2.0\n",
    "neigh=igl.adjacency_list(TRI)\n",
    "ADJ,NI=igl.vertex_triangle_adjacency(TRI, len(ver))\n",
    "border=igl.is_border_vertex(ver,TRI)\n",
    "\n",
    "H_elast,c1,c2,A_v,SHO2=Elastic_Local(ver,TRI,k,normals_ver,normals_face,area,neigh,ADJ,NI,et,te,border)"
   ]
  },
  {
   "cell_type": "code",
   "execution_count": 692,
   "id": "d9550639",
   "metadata": {
    "scrolled": false
   },
   "outputs": [],
   "source": [
    "δ=np.array([random.uniform(-σ,σ),random.uniform(-σ,σ),random.uniform(-σ,σ)])\n",
    "H=H_elast\n",
    "fert=[0]\n",
    "for i in ver_bulk[0:1]:\n",
    "    ver[i]+=δ\n",
    "    H_new, Av_new, Nf_old, N_v,c1_new,c2_new,SH_old,ind=update_energy_vertex(ver,TRI,H,c1,c2,k,A_v,i,normals_face,neigh,ADJ,NI,area,SHO,et)\n",
    "\n",
    "    H_new,Avj,SH_old_neig,ind_neig,c1_neig,c2_neig,ind_c=update_energy_neig(ver,TRI,H_new,c1,c2,k,A_v,i,normals_face,neigh,ADJ,NI,area,SHO,et,border)\n",
    "    A_v[i]=Av_new #new area at vertex \n",
    "    for u in range(0,len(Avj)): #new neighbours area\n",
    "        A_v[Avj[u][1]]=Avj[u][0]\n",
    "        c1[ind_c[u]]=c1_neig[u] #new neig curvatures\n",
    "        c2[ind_c[u]]=c2_neig[u]\n",
    "    c1[i]=c1_new; c2[i]=c2_new\n",
    "    H=H_new\n"
   ]
  },
  {
   "cell_type": "code",
   "execution_count": 524,
   "id": "c7d2ac14",
   "metadata": {
    "scrolled": false
   },
   "outputs": [
    {
     "data": {
      "text/plain": [
       "(26.962217644595256,\n",
       " 1.1901759992174286,\n",
       " 1.1921735952077541,\n",
       " 0.030968425814434042)"
      ]
     },
     "execution_count": 524,
     "metadata": {},
     "output_type": "execute_result"
    }
   ],
   "source": [
    "H_new, A_v[0], c1[0],c2[0]"
   ]
  },
  {
   "cell_type": "markdown",
   "id": "191d7113",
   "metadata": {},
   "source": [
    "# Elastic Energy\n",
    "Idea to calculate curvature on each edges, in a discrete surface there is a change in curvature only when a edge is crossed. Calculate curvature on each edge as:\n",
    "\\begin{equation}\n",
    "h(e)=2|\\vec{r_{e}}|cos(\\frac{\\phi(e)}{2})\n",
    "\\end{equation}\n",
    "with $\\vec{r_{e}}=\\vec{x_1}-\\vec{x_2}$ vector along the edge and $\\phi(e)$ signed dihedral angle given by:\n",
    "\\begin{equation}\n",
    "\\phi(e)=sign(\\hat{N}(f,1) \\times \\hat{N}(f,2) \\cdot \\vec{r}_e)arccos(\\hat{N}(f,1) \\cdot \\hat{N}(f,2))+\\pi\n",
    "\\end{equation}.\n"
   ]
  },
  {
   "cell_type": "code",
   "execution_count": 48,
   "id": "3cf8f0a5",
   "metadata": {},
   "outputs": [],
   "source": [
    "normals_ver=igl.per_vertex_normals(ver, TRI, igl.PER_VERTEX_NORMALS_WEIGHTING_TYPE_AREA)\n",
    "z=np.array([1/3,1/3,1/3])\n",
    "z=z/np.linalg.norm(z)\n",
    "normals_face=igl.per_face_normals(ver,TRI,z) #z normal given to degenerate faces(??)\n",
    "area = igl.doublearea(ver, TRI) / 2.0\n",
    "neigh=igl.adjacency_list(TRI)\n",
    "ADJ,NI=igl.vertex_triangle_adjacency(TRI, len(ver))\n",
    "border=igl.is_border_vertex(ver,TRI)\n",
    "\n",
    "\n",
    "def Elastic_Local(ver,TRI,k,normals_ver,normals_face,area,neigh,ADJ,NI,et,te,border):\n",
    "    aus=0\n",
    "    curv_E=[]\n",
    "    f1=[]; f2=[]; eigenv=[]\n",
    "    SHO=np.zeros([3,3,len(te),len(ver)]) #matrix that store shape operator at each edge\n",
    "    A_v=np.zeros(len(ver))\n",
    "    for i in range(0,len(ver)): #calculate curvature at each vertex\n",
    "        if border[i]==True:\n",
    "            f1.append(0.0); f2.append(0.0) #zero curvature at border vertices\n",
    "        else:\n",
    "            #Calculate Area associated to each vertex for later use\n",
    "            neig_faces_i=ADJ[NI[i]:NI[i+1]] #faces neighbouring vertex i\n",
    "            for m in neig_faces_i:\n",
    "                A_v[i]+=area[m]\n",
    "            A_v[i]=A_v[i]/3\n",
    "            N_v=normals_ver[i]#Normal to vertex\n",
    "            S_v=np.zeros([3,3])\n",
    "            for j in neigh[i]:\n",
    "                r_e=ver[j]- ver[i] #vector connecting central vertex to adjacent ones\n",
    "                #to find faces that share edge connecting i,j without searching ev\n",
    "                neig_faces_j=ADJ[NI[j]:NI[j+1]]\n",
    "                faces=[]\n",
    "                for q in neig_faces_i:\n",
    "                    if q in neig_faces_j:\n",
    "                        faces.append(q)\n",
    "                Nf_1=normals_face[faces[0]]\n",
    "                Nf_2=normals_face[faces[1]]\n",
    "                et1=et[faces[0]]; et2=et[faces[1]] #list of edges used by faces considered\n",
    "                e=0\n",
    "                for z in et1:\n",
    "                    if z in et2:\n",
    "                        e=z #index of edge on which calculating curvature\n",
    "\n",
    "                #find signed dihedral angle\n",
    "                ϕ=np.sign(np.dot(np.cross(Nf_1,Nf_2),r_e))*np.arccos(np.dot(Nf_1,Nf_2))+np.pi\n",
    "                #now can find edge curvature\n",
    "                h=2*np.linalg.norm(r_e)*np.cos(0.5*ϕ)\n",
    "                print(h)\n",
    "                #To calculate shape operator calculate first edge normal using face normals\n",
    "                N_e=(Nf_1+Nf_2)\n",
    "                N_e=N_e/np.linalg.norm(N_e)\n",
    "                #Shape operator on edge e\n",
    "                R_e=r_e/np.linalg.norm(r_e)\n",
    "                b=np.cross(R_e,N_e)\n",
    "                b=b/np.linalg.norm(b)\n",
    "                S_e=h*np.tensordot(b,b,axes=0) #Shape operator\n",
    "                SHO[:,:,e,i]=S_e #Save shape operator in position corresponding to edge, shape operator changes sign with directed edge, also index, shape operator centered in index i\n",
    "                P_v=np.identity(3)-np.tensordot(N_v,N_v,axes=0) #Projection operator\n",
    "                #Project shape operator on edge and obtain shape operator at vertex\n",
    "                #print(N_v,\" \",N_e)\n",
    "                #print(np.dot(N_e,N_v))\n",
    "                W_e=np.dot(N_v,N_e)\n",
    "                S_v+=W_e*np.dot((np.conjugate(P_v.transpose())),np.dot(S_e,P_v))\n",
    "\n",
    "\n",
    "            S_v=S_v/A_v[i] #vertex shape operator has one zero eigenvalue and the other two are the curvatures\n",
    "            #print(np.dot(S_v,N_v))# N_v IS eigenvector with zero eigenvalue\n",
    "            \n",
    "            #Householder transformation\n",
    "            x=[0,0,1] #start from canonical reference frame\n",
    "            pvec=x+N_v\n",
    "            mvec=x-N_v\n",
    "            if np.linalg.norm(pvec)>np.linalg.norm(mvec):\n",
    "                pvec=pvec/np.linalg.norm(pvec)\n",
    "                T_H=(np.identity(3)-2*np.tensordot(pvec,pvec,axes=0))\n",
    "            else:\n",
    "                mvec=mvec/np.linalg.norm(mvec)\n",
    "                T_H=(np.identity(3)-2*np.tensordot(mvec,mvec,axes=0))\n",
    "\n",
    "            C_v=np.dot((np.conjugate(T_H.transpose())),np.dot(S_v,T_H)) #now C 2x2 minor with nonzero elements\n",
    "            p=C_v[0,0]; q=C_v[0,1]\n",
    "            r=C_v[1,0]; s=C_v[1,1]\n",
    "            if q!=0 and r!=0:\n",
    "                insq=(p+s)**2-4*(p*s-q*r) #value of which will take squared root\n",
    "\n",
    "                if insq>0: #avoid complex eigenvalues\n",
    "                    c1=((p+s)+np.sqrt(insq))*0.5  #largest eigenvalue                            \n",
    "                    c2=((p+s)-np.sqrt(insq))*0.5  #smallest\n",
    "                else: #degenerate eigenvalues\n",
    "                    c1=(p+s)*0.5                               \n",
    "                    c2=c1\n",
    "            else:\n",
    "                if p>s:\n",
    "                    c1=p\n",
    "                    c2=s\n",
    "                else:\n",
    "                    c1=s\n",
    "                    c2=p\n",
    "\n",
    "                    \n",
    "            if abs(c1)<=10e-10:\n",
    "                c1=0\n",
    "            if abs(c2)<=10e-10:\n",
    "                c2=0\n",
    "            f1.append(c1)\n",
    "            f2.append(c2)\n",
    "            aus+=((c1+c2)**2)*A_v[i]*0.5*k\n",
    "            #curv_E.append(((c1+c2)**2)*A_v[i]*0.5*k)\n",
    "\n",
    "    \n",
    "    H_elastic=aus\n",
    "    return H_elastic,f1,f2,A_v,SHO\n"
   ]
  },
  {
   "cell_type": "code",
   "execution_count": 49,
   "id": "7574a9fc",
   "metadata": {},
   "outputs": [
    {
     "name": "stdout",
     "output_type": "stream",
     "text": [
      "-1.076375647592839\n",
      "1.07637564759284\n",
      "-1.076375647592839\n",
      "1.07637564759284\n",
      "1.0763756475928394\n",
      "1.0763756475928394\n"
     ]
    }
   ],
   "source": [
    "H_elastic,c1,c2,A_v,SHO=Elastic_Local(ver,TRI,k,normals_ver,normals_face,area,neigh,ADJ,NI,et,te,border)"
   ]
  },
  {
   "cell_type": "code",
   "execution_count": 47,
   "id": "30c9a7b8",
   "metadata": {},
   "outputs": [
    {
     "data": {
      "text/plain": [
       "(1.5727391874181014, -0.5242463958060332)"
      ]
     },
     "execution_count": 47,
     "metadata": {},
     "output_type": "execute_result"
    }
   ],
   "source": [
    "c1[1],c2[1]"
   ]
  },
  {
   "cell_type": "code",
   "execution_count": null,
   "id": "dad5f0bb",
   "metadata": {},
   "outputs": [],
   "source": []
  }
 ],
 "metadata": {
  "kernelspec": {
   "display_name": "Python 3 (ipykernel)",
   "language": "python",
   "name": "python3"
  },
  "language_info": {
   "codemirror_mode": {
    "name": "ipython",
    "version": 3
   },
   "file_extension": ".py",
   "mimetype": "text/x-python",
   "name": "python",
   "nbconvert_exporter": "python",
   "pygments_lexer": "ipython3",
   "version": "3.9.5"
  }
 },
 "nbformat": 4,
 "nbformat_minor": 5
}
