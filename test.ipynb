{
 "cells": [
  {
   "cell_type": "code",
   "execution_count": 1,
   "id": "5a3ec4b9",
   "metadata": {},
   "outputs": [],
   "source": [
    "import numpy as np\n",
    "from meshplot import plot, subplot, interact\n",
    "import igl"
   ]
  },
  {
   "cell_type": "code",
   "execution_count": 2,
   "id": "ba36470d",
   "metadata": {},
   "outputs": [],
   "source": [
    "from src.generate_mesh import triangular_lattice\n",
    "from src.generate_mesh import create_mesh\n",
    "from src.elastic_energy import elastic_energy\n",
    "from src.MC_vertex_link import MCstep_vertex\n",
    "from src.MC_vertex_link import MCstep_link"
   ]
  },
  {
   "cell_type": "code",
   "execution_count": 3,
   "id": "bf0e4809",
   "metadata": {
    "collapsed": true
   },
   "outputs": [
    {
     "name": "stdout",
     "output_type": "stream",
     "text": [
      "1\n",
      "(-1.6500000000000001, 0.9526279441628825)\n",
      "1\n",
      "(-2.75, 0.9526279441628824)\n",
      "2\n",
      "(-2.2, 1.9052558883257649)\n",
      "1\n",
      "(-3.8500000000000005, 0.9526279441628825)\n",
      "2\n",
      "(-3.3000000000000003, 1.905255888325765)\n",
      "3\n",
      "(-2.75, 2.8578838324886475)\n",
      "1\n",
      "(-4.95, 0.9526279441628825)\n",
      "2\n",
      "(-4.4, 1.905255888325765)\n",
      "3\n",
      "(-3.8499999999999996, 2.857883832488648)\n",
      "4\n",
      "(-3.3, 3.81051177665153)\n"
     ]
    }
   ],
   "source": [
    "triangular_lattice = np.array( triangular_lattice(1.1, expansion_level = 5) ) # returns a list with points on the Euclidean plane (2d space)\n",
    "ver, TRI=create_mesh(triangular_lattice)"
   ]
  },
  {
   "cell_type": "code",
   "execution_count": 8,
   "id": "e14ac28d",
   "metadata": {},
   "outputs": [],
   "source": [
    "k=0.000002\n",
    "β=0.5\n",
    "r=1.0\n",
    "σ=0.1*r\n",
    "for z in range(0,10000): \n",
    "    MCstep_vertex(ver,TRI,σ,r,k,β)\n",
    "    MCstep_link(ver,TRI,β,k,r)"
   ]
  },
  {
   "cell_type": "code",
   "execution_count": 6,
   "id": "622c96ff",
   "metadata": {},
   "outputs": [
    {
     "name": "stdout",
     "output_type": "stream",
     "text": [
      "39.5 ms ± 1.22 ms per loop (mean ± std. dev. of 7 runs, 10 loops each)\n"
     ]
    }
   ],
   "source": [
    "%timeit MCstep_link(ver,TRI,β,k,r)"
   ]
  },
  {
   "cell_type": "code",
   "execution_count": 7,
   "id": "1af7af7f",
   "metadata": {},
   "outputs": [
    {
     "name": "stdout",
     "output_type": "stream",
     "text": [
      "388 ms ± 13.5 ms per loop (mean ± std. dev. of 7 runs, 1 loop each)\n"
     ]
    }
   ],
   "source": [
    "%timeit MCstep_vertex(ver,TRI,σ,r,k,β)"
   ]
  },
  {
   "cell_type": "code",
   "execution_count": 9,
   "id": "7e03d67f",
   "metadata": {},
   "outputs": [
    {
     "name": "stderr",
     "output_type": "stream",
     "text": [
      "/home/riccardo/miniconda3/lib/python3.9/site-packages/jupyter_client/session.py:716: UserWarning: Message serialization failed with:\n",
      "Out of range float values are not JSON compliant\n",
      "Supporting this message is deprecated in jupyter-client 7, please make sure your message is JSON-compliant\n",
      "  content = self.pack(content)\n"
     ]
    },
    {
     "data": {
      "application/vnd.jupyter.widget-view+json": {
       "model_id": "d28518d0a2ff4f269ad7dc5baca0d5a1",
       "version_major": 2,
       "version_minor": 0
      },
      "text/plain": [
       "Renderer(camera=PerspectiveCamera(children=(DirectionalLight(color='white', intensity=0.6, position=(0.1728260…"
      ]
     },
     "metadata": {},
     "output_type": "display_data"
    },
    {
     "data": {
      "text/plain": [
       "1"
      ]
     },
     "execution_count": 9,
     "metadata": {},
     "output_type": "execute_result"
    }
   ],
   "source": [
    "p=plot(ver,TRI)\n",
    "p.add_points(ver, shading={\"point_size\": 1.0})"
   ]
  },
  {
   "cell_type": "code",
   "execution_count": null,
   "id": "8952b350",
   "metadata": {},
   "outputs": [],
   "source": []
  },
  {
   "cell_type": "code",
   "execution_count": null,
   "id": "d77aeead",
   "metadata": {},
   "outputs": [],
   "source": []
  },
  {
   "cell_type": "code",
   "execution_count": null,
   "id": "6580efb4",
   "metadata": {},
   "outputs": [],
   "source": []
  }
 ],
 "metadata": {
  "kernelspec": {
   "display_name": "Python 3 (ipykernel)",
   "language": "python",
   "name": "python3"
  },
  "language_info": {
   "codemirror_mode": {
    "name": "ipython",
    "version": 3
   },
   "file_extension": ".py",
   "mimetype": "text/x-python",
   "name": "python",
   "nbconvert_exporter": "python",
   "pygments_lexer": "ipython3",
   "version": "3.9.5"
  }
 },
 "nbformat": 4,
 "nbformat_minor": 5
}
